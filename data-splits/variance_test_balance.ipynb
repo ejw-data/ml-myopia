{
 "cells": [
  {
   "cell_type": "code",
   "execution_count": 286,
   "metadata": {},
   "outputs": [],
   "source": [
    "\n",
    "# ignore metric did not predict warning\n",
    "import warnings\n",
    "warnings.filterwarnings(\"ignore\")\n",
    "from IPython.display import display, HTML\n",
    "\n",
    "import numpy as np\n",
    "import pandas as pd\n",
    "import matplotlib.pyplot as plt\n",
    "from statistics import mean, mode\n",
    "from pathlib import Path\n",
    "from imblearn.pipeline import Pipeline\n",
    "# from sklearn.pipeline import Pipeline\n",
    "from sklearn.preprocessing import StandardScaler\n",
    "from sklearn.model_selection import train_test_split, RepeatedStratifiedKFold, StratifiedKFold, GridSearchCV, cross_val_score, cross_validate, validation_curve\n",
    "from sklearn.metrics import accuracy_score, confusion_matrix, classification_report\n",
    "from imblearn.over_sampling import SMOTE  "
   ]
  },
  {
   "cell_type": "code",
   "execution_count": 287,
   "metadata": {},
   "outputs": [
    {
     "data": {
      "text/html": [
       "<div>\n",
       "<style scoped>\n",
       "    .dataframe tbody tr th:only-of-type {\n",
       "        vertical-align: middle;\n",
       "    }\n",
       "\n",
       "    .dataframe tbody tr th {\n",
       "        vertical-align: top;\n",
       "    }\n",
       "\n",
       "    .dataframe thead th {\n",
       "        text-align: right;\n",
       "    }\n",
       "</style>\n",
       "<table border=\"1\" class=\"dataframe\">\n",
       "  <thead>\n",
       "    <tr style=\"text-align: right;\">\n",
       "      <th></th>\n",
       "      <th>ACD</th>\n",
       "      <th>LT</th>\n",
       "      <th>VCD</th>\n",
       "      <th>SPORTHR</th>\n",
       "      <th>DADMY</th>\n",
       "      <th>delta_spheq</th>\n",
       "      <th>total_positive_screen</th>\n",
       "      <th>MYOPIC</th>\n",
       "    </tr>\n",
       "  </thead>\n",
       "  <tbody>\n",
       "    <tr>\n",
       "      <th>0</th>\n",
       "      <td>3.702</td>\n",
       "      <td>3.392</td>\n",
       "      <td>15.29</td>\n",
       "      <td>4</td>\n",
       "      <td>1</td>\n",
       "      <td>1.358</td>\n",
       "      <td>8</td>\n",
       "      <td>0</td>\n",
       "    </tr>\n",
       "  </tbody>\n",
       "</table>\n",
       "</div>"
      ],
      "text/plain": [
       "     ACD     LT    VCD  SPORTHR  DADMY  delta_spheq  total_positive_screen  \\\n",
       "0  3.702  3.392  15.29        4      1        1.358                      8   \n",
       "\n",
       "   MYOPIC  \n",
       "0       0  "
      ]
     },
     "execution_count": 287,
     "metadata": {},
     "output_type": "execute_result"
    }
   ],
   "source": [
    "# Loading data\n",
    "file_path = Path(\"../eda/reduced_filtered_df.csv\")\n",
    "df = pd.read_csv(file_path)\n",
    "df.head(1)"
   ]
  },
  {
   "cell_type": "code",
   "execution_count": 288,
   "metadata": {},
   "outputs": [
    {
     "data": {
      "text/plain": [
       "372"
      ]
     },
     "execution_count": 288,
     "metadata": {},
     "output_type": "execute_result"
    }
   ],
   "source": [
    "# Define X,y\n",
    "label = df[\"MYOPIC\"]\n",
    "X = df.iloc[:,:-1].copy()\n",
    "len(X)"
   ]
  },
  {
   "cell_type": "code",
   "execution_count": 289,
   "metadata": {},
   "outputs": [
    {
     "name": "stdout",
     "output_type": "stream",
     "text": [
      "646\n"
     ]
    }
   ],
   "source": [
    "over = SMOTE()\n",
    "X, label = over.fit_resample(X, label)\n",
    "print(len(X))"
   ]
  },
  {
   "cell_type": "markdown",
   "metadata": {},
   "source": [
    "## Training X Variance"
   ]
  },
  {
   "cell_type": "code",
   "execution_count": 290,
   "metadata": {},
   "outputs": [],
   "source": [
    "from lightgbm import LGBMClassifier\n",
    "model = LGBMClassifier()\n"
   ]
  },
  {
   "cell_type": "code",
   "execution_count": 291,
   "metadata": {},
   "outputs": [],
   "source": [
    "params = {'n_estimators': 5,\n",
    " 'max_leaves': 4,\n",
    " 'min_child_weight': 3.5806456485030385,\n",
    " 'learning_rate': 0.4359086627863047,\n",
    " 'subsample': 1.0,\n",
    " 'colsample_bylevel': 0.9122163035553499,\n",
    " 'colsample_bytree': 0.9599028390069959,\n",
    " 'reg_alpha': 0.11831815110092216,\n",
    " 'reg_lambda': 0.07223617575057466\n",
    " }\n",
    "\n",
    "model.set_params(**params)\n",
    "\n",
    "cv = RepeatedStratifiedKFold(n_splits=10, n_repeats=3, random_state=1)\n",
    "\n",
    "scoring = ('neg_log_loss','f1', 'recall', 'precision', 'roc_auc', 'accuracy')"
   ]
  },
  {
   "cell_type": "code",
   "execution_count": 292,
   "metadata": {},
   "outputs": [],
   "source": [
    "\n",
    "train_split=[]\n",
    "train_log_loss_mean=[]\n",
    "train_log_loss_stdev=[]\n",
    "test_split=[]\n",
    "test_log_loss_mean=[]\n",
    "test_log_loss_stdev=[]\n"
   ]
  },
  {
   "cell_type": "code",
   "execution_count": 293,
   "metadata": {},
   "outputs": [],
   "source": [
    "def metrics(scores):\n",
    "    print(\"LogLoss\")\n",
    "    print(np.mean(scores['test_neg_log_loss']))\n",
    "    print(np.std(scores['test_neg_log_loss']))\n",
    "    print(\"Test Accuracy\")\n",
    "    print(np.mean(scores['test_accuracy']))\n",
    "    print(np.std(scores['test_accuracy']))\n",
    "    print(\"ROC_AUC\")\n",
    "    print(np.mean(scores['test_roc_auc']))\n",
    "    print(np.std(scores['test_roc_auc']))\n",
    "    print(\"Precision\")\n",
    "    print(np.mean(scores['test_precision']))\n",
    "    print(np.std(scores['test_precision']))\n",
    "    "
   ]
  },
  {
   "cell_type": "code",
   "execution_count": 294,
   "metadata": {},
   "outputs": [
    {
     "name": "stdout",
     "output_type": "stream",
     "text": [
      "Rows:  581\n",
      "LogLoss\n",
      "-0.3312370126936047\n",
      "0.05918700751658426\n",
      "Test Accuracy\n",
      "0.8634521722189752\n",
      "0.05364723877712994\n",
      "ROC_AUC\n",
      "0.9361646188400051\n",
      "0.02862875086179146\n",
      "Precision\n",
      "0.8442506405760021\n",
      "0.0628511741161162\n"
     ]
    }
   ],
   "source": [
    "# Holdback Method with stratify as True\n",
    "X_train90, X_test10, y_train90, y_test10 = train_test_split(X, label, random_state=42, stratify=label, train_size=0.9)\n",
    "print(\"Rows: \",len(X_train90))\n",
    "\n",
    "scores = cross_validate(model, X_train90, y_train90, scoring=scoring, cv=cv, n_jobs=1)\n",
    "metrics(scores)\n",
    "train_split.append(90)\n",
    "train_log_loss_mean.append(np.mean(scores['test_neg_log_loss']))\n",
    "train_log_loss_stdev.append(np.std(scores['test_neg_log_loss']))"
   ]
  },
  {
   "cell_type": "code",
   "execution_count": 295,
   "metadata": {},
   "outputs": [
    {
     "name": "stdout",
     "output_type": "stream",
     "text": [
      "Rows:  516\n",
      "LogLoss\n",
      "-0.34000818764009977\n",
      "0.059610813083765334\n",
      "Test Accuracy\n",
      "0.859904474610357\n",
      "0.04494754004847733\n",
      "ROC_AUC\n",
      "0.933896449704142\n",
      "0.03421123596490652\n",
      "Precision\n",
      "0.8504004396850554\n",
      "0.06720486793574036\n"
     ]
    }
   ],
   "source": [
    "X_train80, X_test11, y_train80, y_test11 = train_test_split(X_train90, y_train90, random_state=42, stratify=y_train90, train_size=0.889)\n",
    "print(\"Rows: \",len(X_train80))\n",
    "scores = cross_validate(model, X_train80, y_train80, scoring=scoring, cv=cv, n_jobs=1)\n",
    "metrics(scores)\n",
    "train_split.append(80)\n",
    "train_log_loss_mean.append(np.mean(scores['test_neg_log_loss']))\n",
    "train_log_loss_stdev.append(np.std(scores['test_neg_log_loss']))\n"
   ]
  },
  {
   "cell_type": "code",
   "execution_count": 296,
   "metadata": {},
   "outputs": [
    {
     "name": "stdout",
     "output_type": "stream",
     "text": [
      "Rows:  451\n",
      "LogLoss\n",
      "-0.3411684070825119\n",
      "0.07080163191378888\n",
      "Test Accuracy\n",
      "0.8662479871175524\n",
      "0.04830559299628522\n",
      "ROC_AUC\n",
      "0.9336082946668955\n",
      "0.03659656762335809\n",
      "Precision\n",
      "0.8495276309841526\n",
      "0.05173633141024571\n"
     ]
    }
   ],
   "source": [
    "X_train70, X_test12, y_train70, y_test12 = train_test_split(X_train80, y_train80, random_state=42, stratify=y_train80, train_size=0.875)\n",
    "print(\"Rows: \",len(X_train70))\n",
    "scores = cross_validate(model, X_train70, y_train70, scoring=scoring, cv=cv, n_jobs=1)\n",
    "metrics(scores)\n",
    "train_split.append(70)\n",
    "train_log_loss_mean.append(np.mean(scores['test_neg_log_loss']))\n",
    "train_log_loss_stdev.append(np.std(scores['test_neg_log_loss']))"
   ]
  },
  {
   "cell_type": "code",
   "execution_count": 297,
   "metadata": {},
   "outputs": [
    {
     "name": "stdout",
     "output_type": "stream",
     "text": [
      "Rows:  386\n",
      "LogLoss\n",
      "-0.3705211604675754\n",
      "0.08158893689907912\n",
      "Test Accuracy\n",
      "0.8583220872694557\n",
      "0.06296104216630441\n",
      "ROC_AUC\n",
      "0.9105240073868882\n",
      "0.04768493593414256\n",
      "Precision\n",
      "0.8452433751393907\n",
      "0.06493416936326823\n"
     ]
    }
   ],
   "source": [
    "X_train60, X_test14, y_train60, y_test14 = train_test_split(X_train70, y_train70, random_state=42, stratify=y_train70, train_size=0.857)\n",
    "print(\"Rows: \",len(X_train60))\n",
    "scores = cross_validate(model, X_train60, y_train60, scoring=scoring, cv=cv, n_jobs=1)\n",
    "metrics(scores)\n",
    "train_split.append(60)\n",
    "train_log_loss_mean.append(np.mean(scores['test_neg_log_loss']))\n",
    "train_log_loss_stdev.append(np.std(scores['test_neg_log_loss']))"
   ]
  },
  {
   "cell_type": "code",
   "execution_count": 298,
   "metadata": {},
   "outputs": [
    {
     "name": "stdout",
     "output_type": "stream",
     "text": [
      "Rows:  321\n",
      "LogLoss\n",
      "-0.3682220345389282\n",
      "0.08895215692953537\n",
      "Test Accuracy\n",
      "0.8482638888888889\n",
      "0.05539283482957509\n",
      "ROC_AUC\n",
      "0.9160232843137256\n",
      "0.05401688255390508\n",
      "Precision\n",
      "0.835654140607701\n",
      "0.06999899564305671\n"
     ]
    }
   ],
   "source": [
    "X_train50, X_test16, y_train50, y_test16 = train_test_split(X_train60, y_train60, random_state=42, stratify=y_train60, train_size=0.833)\n",
    "print(\"Rows: \",len(X_train50))\n",
    "scores = cross_validate(model, X_train50, y_train50, scoring=scoring, cv=cv, n_jobs=1)\n",
    "metrics(scores)\n",
    "train_split.append(50)\n",
    "train_log_loss_mean.append(np.mean(scores['test_neg_log_loss']))\n",
    "train_log_loss_stdev.append(np.std(scores['test_neg_log_loss']))"
   ]
  },
  {
   "cell_type": "markdown",
   "metadata": {},
   "source": [
    "## Testing Variance"
   ]
  },
  {
   "cell_type": "code",
   "execution_count": 299,
   "metadata": {},
   "outputs": [
    {
     "name": "stdout",
     "output_type": "stream",
     "text": [
      "Rows:  323\n",
      "LogLoss\n",
      "-0.3732476775673484\n",
      "0.08536867893089496\n",
      "Test Accuracy\n",
      "0.8358270202020203\n",
      "0.06052535826642208\n",
      "ROC_AUC\n",
      "0.9120634191176471\n",
      "0.04414514021560086\n",
      "Precision\n",
      "0.8083057316493849\n",
      "0.08222400109379649\n"
     ]
    }
   ],
   "source": [
    "# Holdback Method with stratify as True\n",
    "X_train51, X_test50, y_train51, y_test50 = train_test_split(X, label, random_state=42, stratify=label, train_size=0.5)\n",
    "print(\"Rows: \",len(X_test50))\n",
    "scores = cross_validate(model, X_test50, y_test50, scoring=scoring, cv=cv, n_jobs=1)\n",
    "metrics(scores)\n",
    "test_split.append(50)\n",
    "test_log_loss_mean.append(np.mean(scores['test_neg_log_loss']))\n",
    "test_log_loss_stdev.append(np.std(scores['test_neg_log_loss']))"
   ]
  },
  {
   "cell_type": "code",
   "execution_count": 300,
   "metadata": {},
   "outputs": [
    {
     "name": "stdout",
     "output_type": "stream",
     "text": [
      "Rows:  259\n",
      "LogLoss\n",
      "-0.3660171106453091\n",
      "0.11060847160308852\n",
      "Test Accuracy\n",
      "0.8470769230769228\n",
      "0.0743578426085403\n",
      "ROC_AUC\n",
      "0.9226824457593688\n",
      "0.05975514902036988\n",
      "Precision\n",
      "0.8230334942834943\n",
      "0.0768523139892128\n"
     ]
    }
   ],
   "source": [
    "X_train20, X_test40, y_train20, y_test40 = train_test_split(X_test50, y_test50, random_state=42, stratify=y_test50, test_size=0.8)\n",
    "print(\"Rows: \",len(X_test40))\n",
    "scores = cross_validate(model, X_test40, y_test40, scoring=scoring, cv=cv, n_jobs=1)\n",
    "metrics(scores)\n",
    "test_split.append(60)\n",
    "test_log_loss_mean.append(np.mean(scores['test_neg_log_loss']))\n",
    "test_log_loss_stdev.append(np.std(scores['test_neg_log_loss']))"
   ]
  },
  {
   "cell_type": "code",
   "execution_count": 301,
   "metadata": {},
   "outputs": [
    {
     "name": "stdout",
     "output_type": "stream",
     "text": [
      "Rows:  195\n",
      "LogLoss\n",
      "-0.3848521134837531\n",
      "0.1512671223966034\n",
      "Test Accuracy\n",
      "0.8357894736842104\n",
      "0.09689929661360049\n",
      "ROC_AUC\n",
      "0.9050740740740741\n",
      "0.08536061645893649\n",
      "Precision\n",
      "0.8331759906759906\n",
      "0.11750230102450575\n"
     ]
    }
   ],
   "source": [
    "X_train25, X_test30, y_train25, y_test30 = train_test_split(X_test40, y_test40, random_state=42, stratify=y_test40, test_size=0.75)\n",
    "print(\"Rows: \",len(X_test30))\n",
    "scores = cross_validate(model, X_test30, y_test30, scoring=scoring, cv=cv, n_jobs=1)\n",
    "metrics(scores)\n",
    "test_split.append(70)\n",
    "test_log_loss_mean.append(np.mean(scores['test_neg_log_loss']))\n",
    "test_log_loss_stdev.append(np.std(scores['test_neg_log_loss']))"
   ]
  },
  {
   "cell_type": "code",
   "execution_count": 302,
   "metadata": {},
   "outputs": [
    {
     "name": "stdout",
     "output_type": "stream",
     "text": [
      "Rows:  130\n",
      "LogLoss\n",
      "-0.331629219690503\n",
      "0.12141743145680274\n",
      "Test Accuracy\n",
      "0.8897435897435899\n",
      "0.08352049987129401\n",
      "ROC_AUC\n",
      "0.940079365079365\n",
      "0.057133211267003194\n",
      "Precision\n",
      "0.8559920634920636\n",
      "0.11121883241972672\n"
     ]
    }
   ],
   "source": [
    "X_train33, X_test20, y_train33, y_test20 = train_test_split(X_test30, y_test30, random_state=42, stratify=y_test30, test_size=0.666)\n",
    "print(\"Rows: \",len(X_test20))\n",
    "scores = cross_validate(model, X_test20, y_test20, scoring=scoring, cv=cv, n_jobs=1)\n",
    "metrics(scores)\n",
    "test_split.append(80)\n",
    "test_log_loss_mean.append(np.mean(scores['test_neg_log_loss']))\n",
    "test_log_loss_stdev.append(np.std(scores['test_neg_log_loss']))"
   ]
  },
  {
   "cell_type": "code",
   "execution_count": 303,
   "metadata": {},
   "outputs": [
    {
     "name": "stdout",
     "output_type": "stream",
     "text": [
      "Rows:  65\n",
      "LogLoss\n",
      "-0.37645668735257654\n",
      "0.18650730470956395\n",
      "Test Accuracy\n",
      "0.8476190476190477\n",
      "0.14200805870695263\n",
      "ROC_AUC\n",
      "0.9310185185185185\n",
      "0.11511776787320772\n",
      "Precision\n",
      "0.865\n",
      "0.2147931821802338\n"
     ]
    }
   ],
   "source": [
    "X_train49, X_test10, y_train49, y_test10 = train_test_split(X_test20, y_test20, random_state=42, stratify=y_test20, test_size=0.5)\n",
    "print(\"Rows: \",len(X_test10))\n",
    "scores = cross_validate(model, X_test10, y_test10, scoring=scoring, cv=cv, n_jobs=1)\n",
    "metrics(scores)\n",
    "test_split.append(90)\n",
    "test_log_loss_mean.append(np.mean(scores['test_neg_log_loss']))\n",
    "test_log_loss_stdev.append(np.std(scores['test_neg_log_loss']))"
   ]
  },
  {
   "cell_type": "code",
   "execution_count": 315,
   "metadata": {},
   "outputs": [
    {
     "name": "stdout",
     "output_type": "stream",
     "text": [
      "[50, 60, 70, 80, 90]\n",
      "[0.05918700751658426, 0.059610813083765334, 0.07080163191378888, 0.08158893689907912, 0.08895215692953537]\n",
      "[0.08536867893089496, 0.11060847160308852, 0.1512671223966034, 0.12141743145680274, 0.18650730470956395]\n",
      "[0.14455568644747924, 0.17021928468685385, 0.22206875431039227, 0.20300636835588187, 0.2754594616390993]\n"
     ]
    }
   ],
   "source": [
    "print(test_split)\n",
    "print(train_log_loss_stdev)\n",
    "print(test_log_loss_stdev)\n",
    "total_stdev = [ v + test_log_loss_stdev[i] for i,v in enumerate(train_log_loss_stdev)]\n",
    "print(total_stdev)"
   ]
  },
  {
   "cell_type": "code",
   "execution_count": 305,
   "metadata": {},
   "outputs": [
    {
     "data": {
      "text/plain": [
       "[<matplotlib.lines.Line2D at 0x1e927d1c7f0>]"
      ]
     },
     "execution_count": 305,
     "metadata": {},
     "output_type": "execute_result"
    },
    {
     "data": {
      "image/png": "[encoded data removed]",
      "text/plain": [
       "<Figure size 432x288 with 1 Axes>"
      ]
     },
     "metadata": {
      "needs_background": "light"
     },
     "output_type": "display_data"
    }
   ],
   "source": [
    "plt.subplot(1,1,1)\n",
    "plt.plot(test_split, test_log_loss_mean, label=\"Test\")\n",
    "plt.plot(train_split, train_log_loss_mean, label=\"Train\")\n",
    "plt.xlabel(\"X Train Percent of Total\")\n",
    "plt.ylabel(\"Mean Error\")\n",
    "plt.legend()"
   ]
  },
  {
   "cell_type": "code",
   "execution_count": 317,
   "metadata": {},
   "outputs": [
    {
     "data": {
      "text/plain": [
       "<matplotlib.legend.Legend at 0x1e9281b1e80>"
      ]
     },
     "execution_count": 317,
     "metadata": {},
     "output_type": "execute_result"
    },
    {
     "data": {
      "image/png": "[encoded data removed]",
      "text/plain": [
       "<Figure size 432x288 with 1 Axes>"
      ]
     },
     "metadata": {
      "needs_background": "light"
     },
     "output_type": "display_data"
    }
   ],
   "source": [
    "plt.subplot(1,1,1)\n",
    "plt.plot(test_split, test_log_loss_stdev, label=\"Test\")\n",
    "plt.plot(train_split, train_log_loss_stdev, label=\"Train\")\n",
    "plt.plot(test_split, total_stdev, label=\"Total Std Dev\")\n",
    "plt.xlabel(\"X Train Percent of Total\")\n",
    "plt.ylabel(\"Standard Deviation\")\n",
    "plt.legend()"
   ]
  },
  {
   "cell_type": "markdown",
   "metadata": {},
   "source": [
    "From this information, it looks like the best choice for minimizing the standard deviation is with the data split 50/50.  The X train split does not vary much after 75% of the data is used for training and 25% of the data samples results in about 0.12 standard deviation.  Although I see a dip aroudn 80%, that is probably just sampling effects and I am assuming the trendline of this line is probably the most realistic.  \n",
    "\n",
    "The trends make sense.  As X Train becomes larger the standard deviation in the model decreases for training but the test dataset is getting smaller so the standard deviation becomes larger for it.  \n",
    "\n",
    "Choosing the best option is probably to run cross validation on a dataset that is closer to 50/50.  I think I would go with a 60/40 split or a 65/35 split.  The rate that the testing data variation increases is much more rapid than the training data.\n",
    "\n",
    "Also keep in mind that this is for synthetically balanced data.\n",
    "\n"
   ]
  }
 ],
 "metadata": {
  "kernelspec": {
   "display_name": "Python 3.8.12 ('PythonDataS2022')",
   "language": "python",
   "name": "python3"
  },
  "language_info": {
   "codemirror_mode": {
    "name": "ipython",
    "version": 3
   },
   "file_extension": ".py",
   "mimetype": "text/x-python",
   "name": "python",
   "nbconvert_exporter": "python",
   "pygments_lexer": "ipython3",
   "version": "3.8.12"
  },
  "orig_nbformat": 4,
  "vscode": {
   "interpreter": {
    "hash": "5b60c06e5cbd3604200bba38e15999842eea86127b4e1a9a5738b9a4fd10c0de"
   }
  }
 },
 "nbformat": 4,
 "nbformat_minor": 2
}
