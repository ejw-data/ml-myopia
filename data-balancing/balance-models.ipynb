{
 "cells": [
  {
   "cell_type": "markdown",
   "id": "f6161ab7-46f5-46af-a8f3-6f705014bc94",
   "metadata": {},
   "source": [
    "# Balancing Effect on Models"
   ]
  },
  {
   "cell_type": "code",
   "execution_count": 49,
   "id": "fa9938bf-4d64-4272-a456-8107a3ec3e05",
   "metadata": {},
   "outputs": [],
   "source": [
    "import joblib\n",
    "from imblearn.pipeline import Pipeline\n",
    "from sklearn.ensemble import RandomForestClassifier\n",
    "from sklearn.model_selection import RepeatedStratifiedKFold, cross_val_score, cross_validate\n",
    "from sklearn.metrics import accuracy_score, confusion_matrix, classification_report\n",
    "from sklearn.metrics import roc_curve, precision_recall_curve, auc, roc_auc_score\n",
    "from scikitplot.metrics import plot_roc, plot_precision_recall, plot_cumulative_gain, plot_lift_curve\n",
    "from statistics import mean, mode\n",
    "from imblearn.over_sampling import RandomOverSampler, SMOTE, BorderlineSMOTE, ADASYN\n",
    "from imblearn.under_sampling import RandomUnderSampler\n",
    "from collections import Counter\n",
    "import pandas as pd\n",
    "\n",
    "#  Plots  \n",
    "import matplotlib.pyplot as plt\n",
    "\n",
    "# Note:  May need to use class weight\n"
   ]
  },
  {
   "cell_type": "code",
   "execution_count": 3,
   "id": "0f1a105a-51a4-496a-aff2-969d2c91e436",
   "metadata": {},
   "outputs": [
    {
     "data": {
      "application/javascript": [
       "\n",
       "        if (window._pyforest_update_imports_cell) { window._pyforest_update_imports_cell('from pathlib import Path'); }\n",
       "    "
      ],
      "text/plain": [
       "<IPython.core.display.Javascript object>"
      ]
     },
     "metadata": {},
     "output_type": "display_data"
    },
    {
     "data": {
      "text/html": [
       "<div>\n",
       "<style scoped>\n",
       "    .dataframe tbody tr th:only-of-type {\n",
       "        vertical-align: middle;\n",
       "    }\n",
       "\n",
       "    .dataframe tbody tr th {\n",
       "        vertical-align: top;\n",
       "    }\n",
       "\n",
       "    .dataframe thead th {\n",
       "        text-align: right;\n",
       "    }\n",
       "</style>\n",
       "<table border=\"1\" class=\"dataframe\">\n",
       "  <thead>\n",
       "    <tr style=\"text-align: right;\">\n",
       "      <th></th>\n",
       "      <th>ACD</th>\n",
       "      <th>LT</th>\n",
       "      <th>VCD</th>\n",
       "      <th>SPORTHR</th>\n",
       "      <th>DADMY</th>\n",
       "      <th>delta_spheq</th>\n",
       "      <th>total_positive_screen</th>\n",
       "      <th>MYOPIC</th>\n",
       "    </tr>\n",
       "  </thead>\n",
       "  <tbody>\n",
       "    <tr>\n",
       "      <th>0</th>\n",
       "      <td>3.702</td>\n",
       "      <td>3.392</td>\n",
       "      <td>15.29</td>\n",
       "      <td>4</td>\n",
       "      <td>1</td>\n",
       "      <td>1.358</td>\n",
       "      <td>8</td>\n",
       "      <td>0</td>\n",
       "    </tr>\n",
       "    <tr>\n",
       "      <th>1</th>\n",
       "      <td>3.462</td>\n",
       "      <td>3.514</td>\n",
       "      <td>15.52</td>\n",
       "      <td>14</td>\n",
       "      <td>0</td>\n",
       "      <td>1.929</td>\n",
       "      <td>10</td>\n",
       "      <td>0</td>\n",
       "    </tr>\n",
       "    <tr>\n",
       "      <th>2</th>\n",
       "      <td>3.224</td>\n",
       "      <td>3.556</td>\n",
       "      <td>15.36</td>\n",
       "      <td>10</td>\n",
       "      <td>1</td>\n",
       "      <td>2.494</td>\n",
       "      <td>26</td>\n",
       "      <td>0</td>\n",
       "    </tr>\n",
       "    <tr>\n",
       "      <th>3</th>\n",
       "      <td>3.186</td>\n",
       "      <td>3.654</td>\n",
       "      <td>15.49</td>\n",
       "      <td>12</td>\n",
       "      <td>1</td>\n",
       "      <td>1.433</td>\n",
       "      <td>16</td>\n",
       "      <td>0</td>\n",
       "    </tr>\n",
       "    <tr>\n",
       "      <th>4</th>\n",
       "      <td>3.732</td>\n",
       "      <td>3.584</td>\n",
       "      <td>15.08</td>\n",
       "      <td>12</td>\n",
       "      <td>0</td>\n",
       "      <td>2.022</td>\n",
       "      <td>8</td>\n",
       "      <td>0</td>\n",
       "    </tr>\n",
       "  </tbody>\n",
       "</table>\n",
       "</div>"
      ],
      "text/plain": [
       "     ACD     LT    VCD  SPORTHR  DADMY  delta_spheq  total_positive_screen  \\\n",
       "0  3.702  3.392  15.29        4      1        1.358                      8   \n",
       "1  3.462  3.514  15.52       14      0        1.929                     10   \n",
       "2  3.224  3.556  15.36       10      1        2.494                     26   \n",
       "3  3.186  3.654  15.49       12      1        1.433                     16   \n",
       "4  3.732  3.584  15.08       12      0        2.022                      8   \n",
       "\n",
       "   MYOPIC  \n",
       "0       0  \n",
       "1       0  \n",
       "2       0  \n",
       "3       0  \n",
       "4       0  "
      ]
     },
     "execution_count": 3,
     "metadata": {},
     "output_type": "execute_result"
    }
   ],
   "source": [
    "# Loading data\n",
    "# file_path = Path(\"../data/myopia.csv\")\n",
    "file_path = Path(\"../eda/reduced_filtered_df.csv\")\n",
    "df = pd.read_csv(file_path)\n",
    "df.head(5)"
   ]
  },
  {
   "cell_type": "code",
   "execution_count": 4,
   "id": "581ee1c3-07c1-42be-b8ba-b2824174fd64",
   "metadata": {},
   "outputs": [
    {
     "data": {
      "text/plain": [
       "0    323\n",
       "1     49\n",
       "Name: MYOPIC, dtype: int64"
      ]
     },
     "execution_count": 4,
     "metadata": {},
     "output_type": "execute_result"
    }
   ],
   "source": [
    "# Check dataset balance\n",
    "df[\"MYOPIC\"].value_counts()"
   ]
  },
  {
   "cell_type": "code",
   "execution_count": 5,
   "id": "06f5a669-6628-4db7-8775-3db94b3d06a9",
   "metadata": {},
   "outputs": [
    {
     "data": {
      "text/html": [
       "<div>\n",
       "<style scoped>\n",
       "    .dataframe tbody tr th:only-of-type {\n",
       "        vertical-align: middle;\n",
       "    }\n",
       "\n",
       "    .dataframe tbody tr th {\n",
       "        vertical-align: top;\n",
       "    }\n",
       "\n",
       "    .dataframe thead th {\n",
       "        text-align: right;\n",
       "    }\n",
       "</style>\n",
       "<table border=\"1\" class=\"dataframe\">\n",
       "  <thead>\n",
       "    <tr style=\"text-align: right;\">\n",
       "      <th></th>\n",
       "      <th>ACD</th>\n",
       "      <th>LT</th>\n",
       "      <th>VCD</th>\n",
       "      <th>SPORTHR</th>\n",
       "      <th>DADMY</th>\n",
       "      <th>delta_spheq</th>\n",
       "      <th>total_positive_screen</th>\n",
       "    </tr>\n",
       "  </thead>\n",
       "  <tbody>\n",
       "    <tr>\n",
       "      <th>0</th>\n",
       "      <td>3.702</td>\n",
       "      <td>3.392</td>\n",
       "      <td>15.29</td>\n",
       "      <td>4</td>\n",
       "      <td>1</td>\n",
       "      <td>1.358</td>\n",
       "      <td>8</td>\n",
       "    </tr>\n",
       "    <tr>\n",
       "      <th>1</th>\n",
       "      <td>3.462</td>\n",
       "      <td>3.514</td>\n",
       "      <td>15.52</td>\n",
       "      <td>14</td>\n",
       "      <td>0</td>\n",
       "      <td>1.929</td>\n",
       "      <td>10</td>\n",
       "    </tr>\n",
       "    <tr>\n",
       "      <th>2</th>\n",
       "      <td>3.224</td>\n",
       "      <td>3.556</td>\n",
       "      <td>15.36</td>\n",
       "      <td>10</td>\n",
       "      <td>1</td>\n",
       "      <td>2.494</td>\n",
       "      <td>26</td>\n",
       "    </tr>\n",
       "    <tr>\n",
       "      <th>3</th>\n",
       "      <td>3.186</td>\n",
       "      <td>3.654</td>\n",
       "      <td>15.49</td>\n",
       "      <td>12</td>\n",
       "      <td>1</td>\n",
       "      <td>1.433</td>\n",
       "      <td>16</td>\n",
       "    </tr>\n",
       "    <tr>\n",
       "      <th>4</th>\n",
       "      <td>3.732</td>\n",
       "      <td>3.584</td>\n",
       "      <td>15.08</td>\n",
       "      <td>12</td>\n",
       "      <td>0</td>\n",
       "      <td>2.022</td>\n",
       "      <td>8</td>\n",
       "    </tr>\n",
       "  </tbody>\n",
       "</table>\n",
       "</div>"
      ],
      "text/plain": [
       "     ACD     LT    VCD  SPORTHR  DADMY  delta_spheq  total_positive_screen\n",
       "0  3.702  3.392  15.29        4      1        1.358                      8\n",
       "1  3.462  3.514  15.52       14      0        1.929                     10\n",
       "2  3.224  3.556  15.36       10      1        2.494                     26\n",
       "3  3.186  3.654  15.49       12      1        1.433                     16\n",
       "4  3.732  3.584  15.08       12      0        2.022                      8"
      ]
     },
     "execution_count": 5,
     "metadata": {},
     "output_type": "execute_result"
    }
   ],
   "source": [
    "# Define X,y\n",
    "label = df[\"MYOPIC\"]\n",
    "X = df.iloc[:,:-1].copy()\n",
    "X.head()"
   ]
  },
  {
   "cell_type": "code",
   "execution_count": 6,
   "id": "cc541021-3d86-4335-a6d5-b82195f7075d",
   "metadata": {},
   "outputs": [
    {
     "data": {
      "application/javascript": [
       "\n",
       "        if (window._pyforest_update_imports_cell) { window._pyforest_update_imports_cell('from pathlib import Path\\nfrom sklearn.model_selection import train_test_split'); }\n",
       "    "
      ],
      "text/plain": [
       "<IPython.core.display.Javascript object>"
      ]
     },
     "metadata": {},
     "output_type": "display_data"
    }
   ],
   "source": [
    "# Note the use of strategy since the dataset is imbalanced. \n",
    "# I am isolaating the X_test and y_test from the preprossing \n",
    "X_train, X_test, y_train, y_test = train_test_split(X, label, random_state=42, test_size=0.1, stratify=label)"
   ]
  },
  {
   "cell_type": "code",
   "execution_count": 7,
   "id": "9a842727-8f0f-49f8-bd2d-b6c36b3ab860",
   "metadata": {},
   "outputs": [
    {
     "data": {
      "text/plain": [
       "0    290\n",
       "1     44\n",
       "Name: MYOPIC, dtype: int64"
      ]
     },
     "execution_count": 7,
     "metadata": {},
     "output_type": "execute_result"
    }
   ],
   "source": [
    "y_train.value_counts()"
   ]
  },
  {
   "cell_type": "code",
   "execution_count": 8,
   "id": "fe18fb27-cd7c-4d28-82da-bda0f60bff59",
   "metadata": {},
   "outputs": [
    {
     "data": {
      "text/plain": [
       "0    33\n",
       "1     5\n",
       "Name: MYOPIC, dtype: int64"
      ]
     },
     "execution_count": 8,
     "metadata": {},
     "output_type": "execute_result"
    }
   ],
   "source": [
    "y_test.value_counts()"
   ]
  },
  {
   "cell_type": "markdown",
   "id": "eb7b4d1d-6598-4cfb-800c-64e6cfd8d50d",
   "metadata": {},
   "source": [
    "## Classifier with Stratified Cross Validation"
   ]
  },
  {
   "cell_type": "code",
   "execution_count": null,
   "id": "1d3c0082-eae8-4ac7-91f5-98783693823e",
   "metadata": {},
   "outputs": [],
   "source": [
    "from sklearn.tree import DecisionTreeClassifier\n",
    "from sklearn.model_selection import RepeatedStratifiedKFold, cross_val_score, cross_validate\n",
    "from sklearn.metrics import accuracy_score, confusion_matrix, classification_report\n",
    "from statistics import mean, mode"
   ]
  },
  {
   "cell_type": "code",
   "execution_count": null,
   "id": "8ca4ac57-f2d2-4e5f-b2dc-d5fb420be70e",
   "metadata": {},
   "outputs": [],
   "source": [
    "model = DecisionTreeClassifier()\n",
    "# evaluate pipeline\n",
    "# for 5 fold cv, repeat ~100 times; for 10 fold cv, repeat ~50 times\n",
    "scoring = ('f1', 'recall', 'precision', 'roc_auc')\n",
    "cv = RepeatedStratifiedKFold(n_splits=10, n_repeats=3, random_state=1)\n",
    "scores = cross_validate(model, X_train, y_train, scoring=scoring, cv=cv, n_jobs=-1)"
   ]
  },
  {
   "cell_type": "code",
   "execution_count": null,
   "id": "f7b2b741-ecca-45c8-8dd9-98149db0849f",
   "metadata": {},
   "outputs": [],
   "source": [
    "print(f'Mode of Scores: {mode(scores[\"test_roc_auc\"])}')\n",
    "print(\"--------\"*10)\n",
    "print('Mean f1: %.3f' % mean(scores['test_f1']))\n",
    "print('Mean recall: %.3f' % mean(scores['test_recall']))\n",
    "print('Mean precision: %.3f' % mean(scores['test_precision']))\n",
    "print('Mean ROC AUC: %.3f' % mean(scores['test_roc_auc']))"
   ]
  },
  {
   "cell_type": "code",
   "execution_count": null,
   "id": "62c98e7b-2c03-4596-9fe3-3aece6cba38d",
   "metadata": {},
   "outputs": [],
   "source": [
    "model.fit(X_train, y_train)\n",
    "y_pred = model.predict(X_test)"
   ]
  },
  {
   "cell_type": "code",
   "execution_count": null,
   "id": "d1b8c50e-d7bf-4078-abb8-6c594ad05409",
   "metadata": {},
   "outputs": [],
   "source": [
    "print(classification_report(y_test, y_pred))"
   ]
  },
  {
   "cell_type": "code",
   "execution_count": null,
   "id": "0f67a742-ff7c-4096-a0f4-e20e17876b9c",
   "metadata": {},
   "outputs": [],
   "source": []
  },
  {
   "cell_type": "markdown",
   "id": "6917767f-73c3-4bfd-a55b-7c6685ee1b8a",
   "metadata": {},
   "source": [
    "## Pipeline with SMOTE and Stratified Cross Validation\n",
    "- Good explanation of stratified sampling - https://medium.com/sfu-cspmp/surviving-in-a-random-forest-with-imbalanced-datasets-b98b963d52eb"
   ]
  },
  {
   "cell_type": "code",
   "execution_count": null,
   "id": "457a77ef-6a66-424e-9330-275fa1bc03d6",
   "metadata": {},
   "outputs": [],
   "source": [
    "scoring = ('f1', 'recall', 'precision', 'roc_auc')\n",
    "steps = [('over', SMOTE()), ('model', DecisionTreeClassifier())]\n",
    "pipeline = Pipeline(steps=steps)\n",
    "\n",
    "# evaluate pipeline\n",
    "# Note for imbalanced classification don't use k-fold cross-validation\n",
    "cv = RepeatedStratifiedKFold(n_splits=10, n_repeats=3, random_state=1)\n",
    "scores = cross_validate(pipeline, X_train, y_train, scoring=scoring, cv=cv, n_jobs=-1)"
   ]
  },
  {
   "cell_type": "code",
   "execution_count": null,
   "id": "dcc8b2a3-27c4-40a8-b05a-648975e6bd13",
   "metadata": {},
   "outputs": [
    {
     "name": "stdout",
     "output_type": "stream",
     "text": [
      "Mean f1: 0.305\n",
      "Mean recall: 0.383\n",
      "Mean precision: 0.279\n",
      "Mean ROC AUC: 0.609\n"
     ]
    }
   ],
   "source": [
    "print('Mean f1: %.3f' % mean(scores['test_f1']))\n",
    "print('Mean recall: %.3f' % mean(scores['test_recall']))\n",
    "print('Mean precision: %.3f' % mean(scores['test_precision']))\n",
    "print('Mean ROC AUC: %.3f' % mean(scores['test_roc_auc']))"
   ]
  },
  {
   "cell_type": "code",
   "execution_count": null,
   "id": "ad2cf6e9-f213-4f0e-8718-2aef97b33729",
   "metadata": {},
   "outputs": [],
   "source": [
    "pipeline.fit(X_train, y_train)\n",
    "y_pred = pipeline.predict(X_test)"
   ]
  },
  {
   "cell_type": "code",
   "execution_count": 42,
   "id": "027a121a-9d62-4cda-99eb-d95b6e370ca3",
   "metadata": {},
   "outputs": [
    {
     "name": "stdout",
     "output_type": "stream",
     "text": [
      "              precision    recall  f1-score   support\n",
      "\n",
      "           0       0.88      0.92      0.90        24\n",
      "           1       0.00      0.00      0.00         3\n",
      "\n",
      "    accuracy                           0.81        27\n",
      "   macro avg       0.44      0.46      0.45        27\n",
      "weighted avg       0.78      0.81      0.80        27\n",
      "\n"
     ]
    }
   ],
   "source": [
    "print(classification_report(y_test, y_pred))"
   ]
  },
  {
   "cell_type": "markdown",
   "id": "5ff86556-daaf-4aab-b85d-218bf2e19a24",
   "metadata": {},
   "source": [
    "## Pipeline with Stratified Cross Validation and Random Forest (imbalanced)"
   ]
  },
  {
   "cell_type": "code",
   "execution_count": 43,
   "id": "9067eefe-6c15-49f4-a906-9b5558c46060",
   "metadata": {
    "tags": []
   },
   "outputs": [],
   "source": [
    "# may need to use class weight to balance\n",
    "from sklearn.ensemble import RandomForestClassifier\n",
    "from sklearn.model_selection import RepeatedStratifiedKFold"
   ]
  },
  {
   "cell_type": "code",
   "execution_count": 59,
   "id": "f4ba536a-7dbf-491d-bf41-54fdc1de9630",
   "metadata": {},
   "outputs": [],
   "source": [
    "irfc = RandomForestClassifier(n_estimators=150, random_state=1)\n",
    "cv = RepeatedStratifiedKFold(n_splits=10, n_repeats=3, random_state=1)"
   ]
  },
  {
   "cell_type": "code",
   "execution_count": 60,
   "id": "8a4c98fe-aa77-4d79-8c4d-fcd64e2caceb",
   "metadata": {},
   "outputs": [
    {
     "name": "stdout",
     "output_type": "stream",
     "text": [
      ">Train: 0=188, 1=28, Test: 0=21, 1=3\n",
      ">Train: 0=188, 1=28, Test: 0=21, 1=3\n",
      ">Train: 0=188, 1=28, Test: 0=21, 1=3\n",
      ">Train: 0=188, 1=28, Test: 0=21, 1=3\n",
      ">Train: 0=188, 1=28, Test: 0=21, 1=3\n",
      ">Train: 0=188, 1=28, Test: 0=21, 1=3\n",
      ">Train: 0=188, 1=28, Test: 0=21, 1=3\n",
      ">Train: 0=188, 1=28, Test: 0=21, 1=3\n",
      ">Train: 0=188, 1=28, Test: 0=21, 1=3\n",
      ">Train: 0=189, 1=27, Test: 0=20, 1=4\n",
      ">Train: 0=188, 1=28, Test: 0=21, 1=3\n",
      ">Train: 0=188, 1=28, Test: 0=21, 1=3\n",
      ">Train: 0=188, 1=28, Test: 0=21, 1=3\n",
      ">Train: 0=188, 1=28, Test: 0=21, 1=3\n",
      ">Train: 0=188, 1=28, Test: 0=21, 1=3\n",
      ">Train: 0=188, 1=28, Test: 0=21, 1=3\n",
      ">Train: 0=188, 1=28, Test: 0=21, 1=3\n",
      ">Train: 0=188, 1=28, Test: 0=21, 1=3\n",
      ">Train: 0=188, 1=28, Test: 0=21, 1=3\n",
      ">Train: 0=189, 1=27, Test: 0=20, 1=4\n",
      ">Train: 0=188, 1=28, Test: 0=21, 1=3\n",
      ">Train: 0=188, 1=28, Test: 0=21, 1=3\n",
      ">Train: 0=188, 1=28, Test: 0=21, 1=3\n",
      ">Train: 0=188, 1=28, Test: 0=21, 1=3\n",
      ">Train: 0=188, 1=28, Test: 0=21, 1=3\n",
      ">Train: 0=188, 1=28, Test: 0=21, 1=3\n",
      ">Train: 0=188, 1=28, Test: 0=21, 1=3\n",
      ">Train: 0=188, 1=28, Test: 0=21, 1=3\n",
      ">Train: 0=188, 1=28, Test: 0=21, 1=3\n",
      ">Train: 0=189, 1=27, Test: 0=20, 1=4\n"
     ]
    }
   ],
   "source": [
    "# Printout of the folds\n",
    "X_train_np = X_train.to_numpy()\n",
    "y_train_np = y_train.to_numpy()\n",
    "for train_index, test_index in cv.split(X_train_np, y_train_np):\n",
    "    \n",
    "    # select rows\n",
    "    train_X, test_X = X_train_np[train_index], X_train_np[test_index]\n",
    "    train_y, test_y = y_train_np[train_index], y_train_np[test_index]\n",
    "    # summarize train and test composition\n",
    "    train_0, train_1 = len(train_y[train_y==0]), len(train_y[train_y==1])\n",
    "    test_0, test_1 = len(test_y[test_y==0]), len(test_y[test_y==1])\n",
    "    print('>Train: 0=%d, 1=%d, Test: 0=%d, 1=%d' % (train_0, train_1, test_0, test_1))"
   ]
  },
  {
   "cell_type": "code",
   "execution_count": 61,
   "id": "c679ed9c-e59a-48d3-aa3f-9801ef70350c",
   "metadata": {},
   "outputs": [],
   "source": [
    "scoring = ('f1', 'recall', 'precision', 'roc_auc')\n",
    "steps = [('model', irfc)]\n",
    "pipeline = Pipeline(steps=steps)"
   ]
  },
  {
   "cell_type": "code",
   "execution_count": 62,
   "id": "17e8b585-2e5c-4839-98db-0d391396036f",
   "metadata": {},
   "outputs": [
    {
     "name": "stderr",
     "output_type": "stream",
     "text": [
      "C:\\Users\\ejwda\\Anaconda3\\envs\\PythonDataS2022\\lib\\site-packages\\sklearn\\metrics\\_classification.py:1334: UndefinedMetricWarning: Precision is ill-defined and being set to 0.0 due to no predicted samples. Use `zero_division` parameter to control this behavior.\n",
      "  _warn_prf(average, modifier, msg_start, len(result))\n",
      "C:\\Users\\ejwda\\Anaconda3\\envs\\PythonDataS2022\\lib\\site-packages\\sklearn\\metrics\\_classification.py:1334: UndefinedMetricWarning: Precision is ill-defined and being set to 0.0 due to no predicted samples. Use `zero_division` parameter to control this behavior.\n",
      "  _warn_prf(average, modifier, msg_start, len(result))\n",
      "C:\\Users\\ejwda\\Anaconda3\\envs\\PythonDataS2022\\lib\\site-packages\\sklearn\\metrics\\_classification.py:1334: UndefinedMetricWarning: Precision is ill-defined and being set to 0.0 due to no predicted samples. Use `zero_division` parameter to control this behavior.\n",
      "  _warn_prf(average, modifier, msg_start, len(result))\n",
      "C:\\Users\\ejwda\\Anaconda3\\envs\\PythonDataS2022\\lib\\site-packages\\sklearn\\metrics\\_classification.py:1334: UndefinedMetricWarning: Precision is ill-defined and being set to 0.0 due to no predicted samples. Use `zero_division` parameter to control this behavior.\n",
      "  _warn_prf(average, modifier, msg_start, len(result))\n",
      "C:\\Users\\ejwda\\Anaconda3\\envs\\PythonDataS2022\\lib\\site-packages\\sklearn\\metrics\\_classification.py:1334: UndefinedMetricWarning: Precision is ill-defined and being set to 0.0 due to no predicted samples. Use `zero_division` parameter to control this behavior.\n",
      "  _warn_prf(average, modifier, msg_start, len(result))\n",
      "C:\\Users\\ejwda\\Anaconda3\\envs\\PythonDataS2022\\lib\\site-packages\\sklearn\\metrics\\_classification.py:1334: UndefinedMetricWarning: Precision is ill-defined and being set to 0.0 due to no predicted samples. Use `zero_division` parameter to control this behavior.\n",
      "  _warn_prf(average, modifier, msg_start, len(result))\n",
      "C:\\Users\\ejwda\\Anaconda3\\envs\\PythonDataS2022\\lib\\site-packages\\sklearn\\metrics\\_classification.py:1334: UndefinedMetricWarning: Precision is ill-defined and being set to 0.0 due to no predicted samples. Use `zero_division` parameter to control this behavior.\n",
      "  _warn_prf(average, modifier, msg_start, len(result))\n",
      "C:\\Users\\ejwda\\Anaconda3\\envs\\PythonDataS2022\\lib\\site-packages\\sklearn\\metrics\\_classification.py:1334: UndefinedMetricWarning: Precision is ill-defined and being set to 0.0 due to no predicted samples. Use `zero_division` parameter to control this behavior.\n",
      "  _warn_prf(average, modifier, msg_start, len(result))\n",
      "C:\\Users\\ejwda\\Anaconda3\\envs\\PythonDataS2022\\lib\\site-packages\\sklearn\\metrics\\_classification.py:1334: UndefinedMetricWarning: Precision is ill-defined and being set to 0.0 due to no predicted samples. Use `zero_division` parameter to control this behavior.\n",
      "  _warn_prf(average, modifier, msg_start, len(result))\n",
      "C:\\Users\\ejwda\\Anaconda3\\envs\\PythonDataS2022\\lib\\site-packages\\sklearn\\metrics\\_classification.py:1334: UndefinedMetricWarning: Precision is ill-defined and being set to 0.0 due to no predicted samples. Use `zero_division` parameter to control this behavior.\n",
      "  _warn_prf(average, modifier, msg_start, len(result))\n",
      "C:\\Users\\ejwda\\Anaconda3\\envs\\PythonDataS2022\\lib\\site-packages\\sklearn\\metrics\\_classification.py:1334: UndefinedMetricWarning: Precision is ill-defined and being set to 0.0 due to no predicted samples. Use `zero_division` parameter to control this behavior.\n",
      "  _warn_prf(average, modifier, msg_start, len(result))\n",
      "C:\\Users\\ejwda\\Anaconda3\\envs\\PythonDataS2022\\lib\\site-packages\\sklearn\\metrics\\_classification.py:1334: UndefinedMetricWarning: Precision is ill-defined and being set to 0.0 due to no predicted samples. Use `zero_division` parameter to control this behavior.\n",
      "  _warn_prf(average, modifier, msg_start, len(result))\n"
     ]
    }
   ],
   "source": [
    "#Evaluate irfc model\n",
    "'''\n",
    "When using X_train, y_train, the following warning occurs:\n",
    "UndefinedMetricWarning: Precision is ill-defined and being set to 0.0 due to \n",
    "no predicted samples. Use `zero_division` parameter to control this behavior\n",
    "\n",
    "This is because some of the models don't classify any minority class.\n",
    "'''\n",
    "scores = cross_validate(pipeline, X_train, y_train, scoring=scoring, cv=cv)"
   ]
  },
  {
   "cell_type": "code",
   "execution_count": 63,
   "id": "85102de8-ecf8-453c-bbbe-ef79a2d35867",
   "metadata": {},
   "outputs": [
    {
     "name": "stdout",
     "output_type": "stream",
     "text": [
      "Mean f1: 0.162\n",
      "Mean recall: 0.122\n",
      "Mean precision: 0.272\n",
      "AUC: 0.780\n",
      "----------------------------------------------------------------------------------------------------\n",
      "Precision Results for each fold\n"
     ]
    },
    {
     "data": {
      "text/plain": [
       "array([0.5       , 0.        , 0.        , 0.33333333, 0.        ,\n",
       "       0.5       , 0.        , 0.        , 1.        , 0.        ,\n",
       "       0.        , 1.        , 1.        , 0.33333333, 1.        ,\n",
       "       0.        , 0.        , 0.        , 0.        , 0.        ,\n",
       "       0.        , 1.        , 0.        , 0.        , 0.5       ,\n",
       "       0.        , 0.        , 0.        , 1.        , 0.        ])"
      ]
     },
     "execution_count": 63,
     "metadata": {},
     "output_type": "execute_result"
    }
   ],
   "source": [
    "print('Mean f1: %.3f' % mean(scores['test_f1']))\n",
    "print('Mean recall: %.3f' % mean(scores['test_recall']))\n",
    "print('Mean precision: %.3f' % mean(scores['test_precision']))\n",
    "print('AUC: %.3f' % mean(scores['test_roc_auc']))\n",
    "print('-----'*20)\n",
    "print('Precision Results for each fold')\n",
    "scores['test_precision']"
   ]
  },
  {
   "cell_type": "code",
   "execution_count": 64,
   "id": "6e750014-63cb-4641-b50b-e7eebab3e110",
   "metadata": {},
   "outputs": [],
   "source": [
    "pipeline.fit(X_train, y_train)\n",
    "y_pred = pipeline.predict(X_test)"
   ]
  },
  {
   "cell_type": "code",
   "execution_count": 65,
   "id": "d7582e27-47b9-4af4-8e9d-2268388e7117",
   "metadata": {},
   "outputs": [
    {
     "name": "stdout",
     "output_type": "stream",
     "text": [
      "              precision    recall  f1-score   support\n",
      "\n",
      "           0       0.88      0.92      0.90        24\n",
      "           1       0.00      0.00      0.00         3\n",
      "\n",
      "    accuracy                           0.81        27\n",
      "   macro avg       0.44      0.46      0.45        27\n",
      "weighted avg       0.78      0.81      0.80        27\n",
      "\n"
     ]
    }
   ],
   "source": [
    "print(classification_report(y_test, y_pred))"
   ]
  },
  {
   "cell_type": "markdown",
   "id": "f94522fa-0979-4fe4-9eb6-ec5e146f9af1",
   "metadata": {},
   "source": [
    "## Pipeline with Balanced Random Forest (imbalanced)"
   ]
  },
  {
   "cell_type": "code",
   "execution_count": 51,
   "id": "91976405-cc7b-439e-a971-31bfbfee6c97",
   "metadata": {
    "tags": []
   },
   "outputs": [],
   "source": [
    "from imblearn.ensemble import BalancedRandomForestClassifier"
   ]
  },
  {
   "cell_type": "code",
   "execution_count": 52,
   "id": "a713bf7f-db04-44a2-b1c6-a489b7aecb5a",
   "metadata": {},
   "outputs": [],
   "source": [
    "brfc = BalancedRandomForestClassifier(n_estimators=150, random_state=2)\n",
    "cv = RepeatedStratifiedKFold(n_splits=10, n_repeats=3, random_state=2)\n",
    "scoring1 = ('f1', 'recall', 'precision', 'roc_auc')\n",
    "\n",
    "steps1 = [('model1', brfc)]\n",
    "pipeline = Pipeline(steps=steps1)"
   ]
  },
  {
   "cell_type": "code",
   "execution_count": 53,
   "id": "d4fff4f9-70ac-4431-9a01-fe29dc37bf37",
   "metadata": {},
   "outputs": [
    {
     "data": {
      "text/plain": [
       "array([[ 3.43600011,  3.54200005, 16.18000031, ...,  0.        ,\n",
       "         1.64700002, 11.        ],\n",
       "       [ 3.31599998,  3.53999996, 15.44999981, ...,  1.        ,\n",
       "         1.602     , 15.        ],\n",
       "       [ 3.69199991,  3.37800002, 15.68000031, ...,  1.        ,\n",
       "         1.588     ,  7.        ],\n",
       "       ...,\n",
       "       [ 3.67600012,  3.51399994, 15.05000019, ...,  0.        ,\n",
       "         1.977     , 16.        ],\n",
       "       [ 3.99799991,  3.4059999 , 15.67000008, ...,  1.        ,\n",
       "         1.12000001, 12.        ],\n",
       "       [ 3.78399992,  3.77999997, 14.85000038, ...,  0.        ,\n",
       "         2.09000003, 10.        ]])"
      ]
     },
     "execution_count": 53,
     "metadata": {},
     "output_type": "execute_result"
    }
   ],
   "source": [
    "X_train.values"
   ]
  },
  {
   "cell_type": "code",
   "execution_count": 54,
   "id": "917ef98f-bd41-4de3-899e-e6490516a9a2",
   "metadata": {},
   "outputs": [
    {
     "data": {
      "text/plain": [
       "(240,)"
      ]
     },
     "execution_count": 54,
     "metadata": {},
     "output_type": "execute_result"
    }
   ],
   "source": [
    "y_train.shape"
   ]
  },
  {
   "cell_type": "code",
   "execution_count": 55,
   "id": "eb92e329-af89-4780-8cfe-a14eb21d2ffe",
   "metadata": {},
   "outputs": [],
   "source": [
    "#Evaluate SRF model\n",
    "# Note needed to upgrade imbalance-learn to at least 0.9.1 and scikit-learn to at least 1.1.1\n",
    "scores = cross_validate(pipeline, X_train.values, y_train.values, cv=cv, scoring=scoring1)\n",
    "#brfc.fit(X_train.values.reshape(-1, 1), y_train)"
   ]
  },
  {
   "cell_type": "code",
   "execution_count": 56,
   "id": "a9529a0d-39ed-4834-ba0b-64f8f139b547",
   "metadata": {},
   "outputs": [
    {
     "name": "stdout",
     "output_type": "stream",
     "text": [
      "Mean f1: 0.432\n",
      "Mean recall: 0.783\n",
      "Mean precision: 0.303\n",
      "Mean AUC: 0.814\n"
     ]
    }
   ],
   "source": [
    "print('Mean f1: %.3f' % mean(scores['test_f1']))\n",
    "print('Mean recall: %.3f' % mean(scores['test_recall']))\n",
    "print('Mean precision: %.3f' % mean(scores['test_precision']))\n",
    "print('Mean AUC: %.3f' % mean(scores['test_roc_auc']))"
   ]
  },
  {
   "cell_type": "code",
   "execution_count": 57,
   "id": "d78ee571-d485-4e78-a21b-cfb67706dee5",
   "metadata": {},
   "outputs": [],
   "source": [
    "pipeline.fit(X_train, y_train)\n",
    "y_pred = pipeline.predict(X_test)"
   ]
  },
  {
   "cell_type": "code",
   "execution_count": 58,
   "id": "02dc576f-b8b7-4a4a-9fa9-925f8d959428",
   "metadata": {},
   "outputs": [
    {
     "name": "stdout",
     "output_type": "stream",
     "text": [
      "              precision    recall  f1-score   support\n",
      "\n",
      "           0       0.90      0.75      0.82        24\n",
      "           1       0.14      0.33      0.20         3\n",
      "\n",
      "    accuracy                           0.70        27\n",
      "   macro avg       0.52      0.54      0.51        27\n",
      "weighted avg       0.82      0.70      0.75        27\n",
      "\n"
     ]
    }
   ],
   "source": [
    "print(classification_report(y_test, y_pred))"
   ]
  },
  {
   "cell_type": "code",
   "execution_count": null,
   "id": "d53463f2-a470-44a8-88b7-c9ad74bad8c7",
   "metadata": {},
   "outputs": [],
   "source": []
  }
 ],
 "metadata": {
  "kernelspec": {
   "display_name": "Python [conda env:PythonDataS2022] *",
   "language": "python",
   "name": "conda-env-PythonDataS2022-py"
  },
  "language_info": {
   "codemirror_mode": {
    "name": "ipython",
    "version": 3
   },
   "file_extension": ".py",
   "mimetype": "text/x-python",
   "name": "python",
   "nbconvert_exporter": "python",
   "pygments_lexer": "ipython3",
   "version": "3.8.12"
  }
 },
 "nbformat": 4,
 "nbformat_minor": 5
}
