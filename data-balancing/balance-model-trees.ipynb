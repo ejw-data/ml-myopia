{
 "cells": [
  {
   "cell_type": "markdown",
   "id": "f6161ab7-46f5-46af-a8f3-6f705014bc94",
   "metadata": {
    "tags": []
   },
   "source": [
    "# Tree Models with Imbalanced Data\n",
    "- Models tested\n",
    "    - Decision Tree Pipeline with Stratified Cross Validation\n",
    "    - Decision Tree Pipeline with SMOTE and Stratified Cross Validation\n",
    "    - RandomForest Pipeline with Stratified Cross Validation\n",
    "    - RandomForest Pipeline with SMOTE and Stratified Cross Validation\n",
    "    - BalancedRandomForest\n",
    "    - AdaBoost Pipeline with Stratified Cross Validation\n",
    "    - AdaBoost Pipeline with SMOTE and Stratified Cross Validation\n",
    "    \n",
    "- Tree models are not suppose to be very good with imbalanced data.  The bootstrapped dataset on highly imbalanced data can cause significant variations.   "
   ]
  },
  {
   "cell_type": "code",
   "execution_count": 48,
   "id": "fa9938bf-4d64-4272-a456-8107a3ec3e05",
   "metadata": {},
   "outputs": [],
   "source": [
    "# Dependencies\n",
    "\n",
    "import pandas as pd\n",
    "from statistics import mean, mode\n",
    "import matplotlib.pyplot as plt\n",
    "\n",
    "import joblib\n",
    "from imblearn.pipeline import Pipeline\n",
    "from imblearn.over_sampling import SMOTE\n",
    "from sklearn.model_selection import RepeatedStratifiedKFold, cross_val_score, cross_validate\n",
    "from sklearn.tree import DecisionTreeClassifier\n",
    "from sklearn.ensemble import RandomForestClassifier, AdaBoostClassifier\n",
    "from imblearn.ensemble import BalancedRandomForestClassifier\n",
    "\n",
    "from sklearn.metrics import accuracy_score, confusion_matrix, classification_report\n",
    "from sklearn.metrics import roc_curve, precision_recall_curve, auc, roc_auc_score\n",
    "from scikitplot.metrics import plot_roc, plot_precision_recall, plot_cumulative_gain, plot_lift_curve\n",
    "from collections import Counter\n",
    "\n",
    "# Note:  May need to use class weight - see _-model-weights.ipynb\n"
   ]
  },
  {
   "cell_type": "code",
   "execution_count": 49,
   "id": "0f1a105a-51a4-496a-aff2-969d2c91e436",
   "metadata": {},
   "outputs": [
    {
     "data": {
      "application/javascript": "\n        if (window._pyforest_update_imports_cell) { window._pyforest_update_imports_cell('from pathlib import Path\\nfrom sklearn.model_selection import train_test_split'); }\n    ",
      "text/plain": [
       "<IPython.core.display.Javascript object>"
      ]
     },
     "metadata": {},
     "output_type": "display_data"
    },
    {
     "data": {
      "text/html": [
       "<div>\n",
       "<style scoped>\n",
       "    .dataframe tbody tr th:only-of-type {\n",
       "        vertical-align: middle;\n",
       "    }\n",
       "\n",
       "    .dataframe tbody tr th {\n",
       "        vertical-align: top;\n",
       "    }\n",
       "\n",
       "    .dataframe thead th {\n",
       "        text-align: right;\n",
       "    }\n",
       "</style>\n",
       "<table border=\"1\" class=\"dataframe\">\n",
       "  <thead>\n",
       "    <tr style=\"text-align: right;\">\n",
       "      <th></th>\n",
       "      <th>ACD</th>\n",
       "      <th>LT</th>\n",
       "      <th>VCD</th>\n",
       "      <th>SPORTHR</th>\n",
       "      <th>DADMY</th>\n",
       "      <th>delta_spheq</th>\n",
       "      <th>total_positive_screen</th>\n",
       "      <th>MYOPIC</th>\n",
       "    </tr>\n",
       "  </thead>\n",
       "  <tbody>\n",
       "    <tr>\n",
       "      <th>0</th>\n",
       "      <td>3.702</td>\n",
       "      <td>3.392</td>\n",
       "      <td>15.29</td>\n",
       "      <td>4</td>\n",
       "      <td>1</td>\n",
       "      <td>1.358</td>\n",
       "      <td>8</td>\n",
       "      <td>0</td>\n",
       "    </tr>\n",
       "  </tbody>\n",
       "</table>\n",
       "</div>"
      ],
      "text/plain": [
       "     ACD     LT    VCD  SPORTHR  DADMY  delta_spheq  total_positive_screen  \\\n",
       "0  3.702  3.392  15.29        4      1        1.358                      8   \n",
       "\n",
       "   MYOPIC  \n",
       "0       0  "
      ]
     },
     "execution_count": 49,
     "metadata": {},
     "output_type": "execute_result"
    }
   ],
   "source": [
    "# Loading data\n",
    "# file_path = Path(\"../data/myopia.csv\")\n",
    "file_path = Path(\"../eda/reduced_filtered_df.csv\")\n",
    "df = pd.read_csv(file_path)\n",
    "df.head(1)"
   ]
  },
  {
   "cell_type": "code",
   "execution_count": 50,
   "id": "581ee1c3-07c1-42be-b8ba-b2824174fd64",
   "metadata": {},
   "outputs": [
    {
     "data": {
      "text/plain": [
       "0    323\n",
       "1     49\n",
       "Name: MYOPIC, dtype: int64"
      ]
     },
     "execution_count": 50,
     "metadata": {},
     "output_type": "execute_result"
    }
   ],
   "source": [
    "# Check dataset balance\n",
    "df[\"MYOPIC\"].value_counts()"
   ]
  },
  {
   "cell_type": "code",
   "execution_count": 51,
   "id": "06f5a669-6628-4db7-8775-3db94b3d06a9",
   "metadata": {},
   "outputs": [
    {
     "data": {
      "text/html": [
       "<div>\n",
       "<style scoped>\n",
       "    .dataframe tbody tr th:only-of-type {\n",
       "        vertical-align: middle;\n",
       "    }\n",
       "\n",
       "    .dataframe tbody tr th {\n",
       "        vertical-align: top;\n",
       "    }\n",
       "\n",
       "    .dataframe thead th {\n",
       "        text-align: right;\n",
       "    }\n",
       "</style>\n",
       "<table border=\"1\" class=\"dataframe\">\n",
       "  <thead>\n",
       "    <tr style=\"text-align: right;\">\n",
       "      <th></th>\n",
       "      <th>ACD</th>\n",
       "      <th>LT</th>\n",
       "      <th>VCD</th>\n",
       "      <th>SPORTHR</th>\n",
       "      <th>DADMY</th>\n",
       "      <th>delta_spheq</th>\n",
       "      <th>total_positive_screen</th>\n",
       "    </tr>\n",
       "  </thead>\n",
       "  <tbody>\n",
       "    <tr>\n",
       "      <th>0</th>\n",
       "      <td>3.702</td>\n",
       "      <td>3.392</td>\n",
       "      <td>15.29</td>\n",
       "      <td>4</td>\n",
       "      <td>1</td>\n",
       "      <td>1.358</td>\n",
       "      <td>8</td>\n",
       "    </tr>\n",
       "    <tr>\n",
       "      <th>1</th>\n",
       "      <td>3.462</td>\n",
       "      <td>3.514</td>\n",
       "      <td>15.52</td>\n",
       "      <td>14</td>\n",
       "      <td>0</td>\n",
       "      <td>1.929</td>\n",
       "      <td>10</td>\n",
       "    </tr>\n",
       "    <tr>\n",
       "      <th>2</th>\n",
       "      <td>3.224</td>\n",
       "      <td>3.556</td>\n",
       "      <td>15.36</td>\n",
       "      <td>10</td>\n",
       "      <td>1</td>\n",
       "      <td>2.494</td>\n",
       "      <td>26</td>\n",
       "    </tr>\n",
       "    <tr>\n",
       "      <th>3</th>\n",
       "      <td>3.186</td>\n",
       "      <td>3.654</td>\n",
       "      <td>15.49</td>\n",
       "      <td>12</td>\n",
       "      <td>1</td>\n",
       "      <td>1.433</td>\n",
       "      <td>16</td>\n",
       "    </tr>\n",
       "    <tr>\n",
       "      <th>4</th>\n",
       "      <td>3.732</td>\n",
       "      <td>3.584</td>\n",
       "      <td>15.08</td>\n",
       "      <td>12</td>\n",
       "      <td>0</td>\n",
       "      <td>2.022</td>\n",
       "      <td>8</td>\n",
       "    </tr>\n",
       "  </tbody>\n",
       "</table>\n",
       "</div>"
      ],
      "text/plain": [
       "     ACD     LT    VCD  SPORTHR  DADMY  delta_spheq  total_positive_screen\n",
       "0  3.702  3.392  15.29        4      1        1.358                      8\n",
       "1  3.462  3.514  15.52       14      0        1.929                     10\n",
       "2  3.224  3.556  15.36       10      1        2.494                     26\n",
       "3  3.186  3.654  15.49       12      1        1.433                     16\n",
       "4  3.732  3.584  15.08       12      0        2.022                      8"
      ]
     },
     "execution_count": 51,
     "metadata": {},
     "output_type": "execute_result"
    }
   ],
   "source": [
    "# Define X,y\n",
    "label = df[\"MYOPIC\"]\n",
    "X = df.iloc[:,:-1].copy()\n",
    "X.head()"
   ]
  },
  {
   "cell_type": "code",
   "execution_count": 52,
   "id": "cc541021-3d86-4335-a6d5-b82195f7075d",
   "metadata": {},
   "outputs": [
    {
     "data": {
      "application/javascript": "\n        if (window._pyforest_update_imports_cell) { window._pyforest_update_imports_cell('from pathlib import Path\\nfrom sklearn.model_selection import train_test_split'); }\n    ",
      "text/plain": [
       "<IPython.core.display.Javascript object>"
      ]
     },
     "metadata": {},
     "output_type": "display_data"
    }
   ],
   "source": [
    "# Note the use of strategy since the dataset is imbalanced. \n",
    "# I am isolaating the X_test and y_test from the preprossing \n",
    "X_train, X_test, y_train, y_test = train_test_split(X, label, random_state=42, test_size=0.1, stratify=label)"
   ]
  },
  {
   "cell_type": "code",
   "execution_count": 53,
   "id": "9a842727-8f0f-49f8-bd2d-b6c36b3ab860",
   "metadata": {},
   "outputs": [
    {
     "data": {
      "text/plain": [
       "0    290\n",
       "1     44\n",
       "Name: MYOPIC, dtype: int64"
      ]
     },
     "execution_count": 53,
     "metadata": {},
     "output_type": "execute_result"
    }
   ],
   "source": [
    "y_train.value_counts()"
   ]
  },
  {
   "cell_type": "code",
   "execution_count": 54,
   "id": "fe18fb27-cd7c-4d28-82da-bda0f60bff59",
   "metadata": {},
   "outputs": [
    {
     "data": {
      "text/plain": [
       "0    33\n",
       "1     5\n",
       "Name: MYOPIC, dtype: int64"
      ]
     },
     "execution_count": 54,
     "metadata": {},
     "output_type": "execute_result"
    }
   ],
   "source": [
    "y_test.value_counts()"
   ]
  },
  {
   "cell_type": "markdown",
   "id": "8b9447b7-e111-4991-a5f2-e01703dcf563",
   "metadata": {},
   "source": [
    "## Decision Trees"
   ]
  },
  {
   "cell_type": "markdown",
   "id": "eb7b4d1d-6598-4cfb-800c-64e6cfd8d50d",
   "metadata": {},
   "source": [
    "### Decision Tree Pipeline with Stratified Cross Validation"
   ]
  },
  {
   "cell_type": "code",
   "execution_count": 55,
   "id": "8ca4ac57-f2d2-4e5f-b2dc-d5fb420be70e",
   "metadata": {},
   "outputs": [],
   "source": [
    "model = DecisionTreeClassifier(random_state=1)\n",
    "scoring = ('f1', 'recall', 'precision', 'roc_auc')\n",
    "steps = [('model', model)]\n",
    "pipeline = Pipeline(steps=steps)\n",
    "# evaluate pipeline\n",
    "cv = RepeatedStratifiedKFold(n_splits=10, n_repeats=3, random_state=2)"
   ]
  },
  {
   "cell_type": "code",
   "execution_count": 56,
   "id": "3381c8ad-ebec-4298-9cb2-95aa051ecb6f",
   "metadata": {},
   "outputs": [],
   "source": [
    "scores = cross_validate(pipeline, X_train, y_train, scoring=scoring, cv=cv, n_jobs=-1)"
   ]
  },
  {
   "cell_type": "code",
   "execution_count": 57,
   "id": "f7b2b741-ecca-45c8-8dd9-98149db0849f",
   "metadata": {},
   "outputs": [
    {
     "name": "stdout",
     "output_type": "stream",
     "text": [
      "Mode of Scores: 0.5560344827586207\n",
      "--------------------------------------------------------------------------------\n",
      "Mean f1: 0.314\n",
      "Mean recall: 0.358\n",
      "Mean precision: 0.320\n",
      "Mean ROC AUC: 0.621\n"
     ]
    }
   ],
   "source": [
    "print(f'Mode of Scores: {mode(scores[\"test_roc_auc\"])}')\n",
    "print(\"--------\"*10)\n",
    "print('Mean f1: %.3f' % mean(scores['test_f1']))\n",
    "print('Mean recall: %.3f' % mean(scores['test_recall']))\n",
    "print('Mean precision: %.3f' % mean(scores['test_precision']))\n",
    "print('Mean ROC AUC: %.3f' % mean(scores['test_roc_auc']))"
   ]
  },
  {
   "cell_type": "code",
   "execution_count": 58,
   "id": "0f67a742-ff7c-4096-a0f4-e20e17876b9c",
   "metadata": {},
   "outputs": [],
   "source": [
    "pipeline.fit(X_train, y_train)\n",
    "y_pred = pipeline.predict(X_test)"
   ]
  },
  {
   "cell_type": "code",
   "execution_count": 59,
   "id": "9394434f-18c5-4e9a-aa8e-6acbbe57a622",
   "metadata": {},
   "outputs": [
    {
     "name": "stdout",
     "output_type": "stream",
     "text": [
      "              precision    recall  f1-score   support\n",
      "\n",
      "           0       0.94      0.91      0.92        33\n",
      "           1       0.50      0.60      0.55         5\n",
      "\n",
      "    accuracy                           0.87        38\n",
      "   macro avg       0.72      0.75      0.73        38\n",
      "weighted avg       0.88      0.87      0.87        38\n",
      "\n"
     ]
    }
   ],
   "source": [
    "print(classification_report(y_test, y_pred))"
   ]
  },
  {
   "cell_type": "code",
   "execution_count": null,
   "id": "6110223a-c3e4-4734-84af-5611af2bf791",
   "metadata": {},
   "outputs": [],
   "source": []
  },
  {
   "cell_type": "markdown",
   "id": "6917767f-73c3-4bfd-a55b-7c6685ee1b8a",
   "metadata": {},
   "source": [
    "### Decision Tree Pipeline with SMOTE and Stratified Cross Validation\n",
    "- Good explanation of stratified sampling - https://medium.com/sfu-cspmp/surviving-in-a-random-forest-with-imbalanced-datasets-b98b963d52eb"
   ]
  },
  {
   "cell_type": "code",
   "execution_count": 60,
   "id": "457a77ef-6a66-424e-9330-275fa1bc03d6",
   "metadata": {},
   "outputs": [],
   "source": [
    "scoring = ('f1', 'recall', 'precision', 'roc_auc')\n",
    "steps = [('over', SMOTE(random_state=3)), ('model', DecisionTreeClassifier(random_state=1))]\n",
    "pipeline = Pipeline(steps=steps)\n",
    "\n",
    "# evaluate pipeline\n",
    "# Note for imbalanced classification don't use k-fold cross-validation\n",
    "cv = RepeatedStratifiedKFold(n_splits=10, n_repeats=3, random_state=2)\n",
    "scores = cross_validate(pipeline, X_train, y_train, scoring=scoring, cv=cv, n_jobs=-1)"
   ]
  },
  {
   "cell_type": "code",
   "execution_count": 61,
   "id": "dcc8b2a3-27c4-40a8-b05a-648975e6bd13",
   "metadata": {},
   "outputs": [
    {
     "name": "stdout",
     "output_type": "stream",
     "text": [
      "Mean f1: 0.384\n",
      "Mean recall: 0.473\n",
      "Mean precision: 0.337\n",
      "Mean ROC AUC: 0.660\n"
     ]
    }
   ],
   "source": [
    "print('Mean f1: %.3f' % mean(scores['test_f1']))\n",
    "print('Mean recall: %.3f' % mean(scores['test_recall']))\n",
    "print('Mean precision: %.3f' % mean(scores['test_precision']))\n",
    "print('Mean ROC AUC: %.3f' % mean(scores['test_roc_auc']))"
   ]
  },
  {
   "cell_type": "code",
   "execution_count": 62,
   "id": "ad2cf6e9-f213-4f0e-8718-2aef97b33729",
   "metadata": {},
   "outputs": [],
   "source": [
    "pipeline.fit(X_train, y_train)\n",
    "y_pred = pipeline.predict(X_test)"
   ]
  },
  {
   "cell_type": "code",
   "execution_count": 63,
   "id": "027a121a-9d62-4cda-99eb-d95b6e370ca3",
   "metadata": {},
   "outputs": [
    {
     "name": "stdout",
     "output_type": "stream",
     "text": [
      "              precision    recall  f1-score   support\n",
      "\n",
      "           0       0.88      0.88      0.88        33\n",
      "           1       0.20      0.20      0.20         5\n",
      "\n",
      "    accuracy                           0.79        38\n",
      "   macro avg       0.54      0.54      0.54        38\n",
      "weighted avg       0.79      0.79      0.79        38\n",
      "\n"
     ]
    }
   ],
   "source": [
    "print(classification_report(y_test, y_pred))"
   ]
  },
  {
   "cell_type": "markdown",
   "id": "727ab033-4ccf-4fb5-ba44-de8559b15504",
   "metadata": {},
   "source": [
    "## Random Forest"
   ]
  },
  {
   "cell_type": "markdown",
   "id": "5ff86556-daaf-4aab-b85d-218bf2e19a24",
   "metadata": {},
   "source": [
    "### RandomForest Pipeline with Stratified Cross Validation (imbalanced data)"
   ]
  },
  {
   "cell_type": "code",
   "execution_count": 64,
   "id": "f4ba536a-7dbf-491d-bf41-54fdc1de9630",
   "metadata": {},
   "outputs": [],
   "source": [
    "irfc = RandomForestClassifier(n_estimators=150, random_state=1)\n",
    "cv = RepeatedStratifiedKFold(n_splits=10, n_repeats=3, random_state=2)"
   ]
  },
  {
   "cell_type": "code",
   "execution_count": 65,
   "id": "8a4c98fe-aa77-4d79-8c4d-fcd64e2caceb",
   "metadata": {},
   "outputs": [
    {
     "name": "stdout",
     "output_type": "stream",
     "text": [
      ">Train: 0=261, 1=39, Test: 0=29, 1=5\n",
      ">Train: 0=261, 1=39, Test: 0=29, 1=5\n",
      ">Train: 0=261, 1=39, Test: 0=29, 1=5\n",
      ">Train: 0=261, 1=39, Test: 0=29, 1=5\n",
      ">Train: 0=261, 1=40, Test: 0=29, 1=4\n",
      ">Train: 0=261, 1=40, Test: 0=29, 1=4\n",
      ">Train: 0=261, 1=40, Test: 0=29, 1=4\n",
      ">Train: 0=261, 1=40, Test: 0=29, 1=4\n",
      ">Train: 0=261, 1=40, Test: 0=29, 1=4\n",
      ">Train: 0=261, 1=40, Test: 0=29, 1=4\n",
      ">Train: 0=261, 1=39, Test: 0=29, 1=5\n",
      ">Train: 0=261, 1=39, Test: 0=29, 1=5\n",
      ">Train: 0=261, 1=39, Test: 0=29, 1=5\n",
      ">Train: 0=261, 1=39, Test: 0=29, 1=5\n",
      ">Train: 0=261, 1=40, Test: 0=29, 1=4\n",
      ">Train: 0=261, 1=40, Test: 0=29, 1=4\n",
      ">Train: 0=261, 1=40, Test: 0=29, 1=4\n",
      ">Train: 0=261, 1=40, Test: 0=29, 1=4\n",
      ">Train: 0=261, 1=40, Test: 0=29, 1=4\n",
      ">Train: 0=261, 1=40, Test: 0=29, 1=4\n",
      ">Train: 0=261, 1=39, Test: 0=29, 1=5\n",
      ">Train: 0=261, 1=39, Test: 0=29, 1=5\n",
      ">Train: 0=261, 1=39, Test: 0=29, 1=5\n",
      ">Train: 0=261, 1=39, Test: 0=29, 1=5\n",
      ">Train: 0=261, 1=40, Test: 0=29, 1=4\n",
      ">Train: 0=261, 1=40, Test: 0=29, 1=4\n",
      ">Train: 0=261, 1=40, Test: 0=29, 1=4\n",
      ">Train: 0=261, 1=40, Test: 0=29, 1=4\n",
      ">Train: 0=261, 1=40, Test: 0=29, 1=4\n",
      ">Train: 0=261, 1=40, Test: 0=29, 1=4\n"
     ]
    }
   ],
   "source": [
    "# Printout of the folds\n",
    "X_train_np = X_train.to_numpy()\n",
    "y_train_np = y_train.to_numpy()\n",
    "for train_index, test_index in cv.split(X_train_np, y_train_np):\n",
    "    \n",
    "    # select rows\n",
    "    train_X, test_X = X_train_np[train_index], X_train_np[test_index]\n",
    "    train_y, test_y = y_train_np[train_index], y_train_np[test_index]\n",
    "    # summarize train and test composition\n",
    "    train_0, train_1 = len(train_y[train_y==0]), len(train_y[train_y==1])\n",
    "    test_0, test_1 = len(test_y[test_y==0]), len(test_y[test_y==1])\n",
    "    print('>Train: 0=%d, 1=%d, Test: 0=%d, 1=%d' % (train_0, train_1, test_0, test_1))"
   ]
  },
  {
   "cell_type": "code",
   "execution_count": 66,
   "id": "c679ed9c-e59a-48d3-aa3f-9801ef70350c",
   "metadata": {},
   "outputs": [],
   "source": [
    "scoring = ('f1', 'recall', 'precision', 'roc_auc')\n",
    "steps = [('model', irfc)]\n",
    "pipeline = Pipeline(steps=steps)"
   ]
  },
  {
   "cell_type": "code",
   "execution_count": 67,
   "id": "17e8b585-2e5c-4839-98db-0d391396036f",
   "metadata": {},
   "outputs": [
    {
     "name": "stderr",
     "output_type": "stream",
     "text": [
      "C:\\Users\\ejwda\\Anaconda3\\envs\\PythonDataS2022\\lib\\site-packages\\sklearn\\metrics\\_classification.py:1327: UndefinedMetricWarning: Precision is ill-defined and being set to 0.0 due to no predicted samples. Use `zero_division` parameter to control this behavior.\n",
      "  _warn_prf(average, modifier, msg_start, len(result))\n",
      "C:\\Users\\ejwda\\Anaconda3\\envs\\PythonDataS2022\\lib\\site-packages\\sklearn\\metrics\\_classification.py:1327: UndefinedMetricWarning: Precision is ill-defined and being set to 0.0 due to no predicted samples. Use `zero_division` parameter to control this behavior.\n",
      "  _warn_prf(average, modifier, msg_start, len(result))\n",
      "C:\\Users\\ejwda\\Anaconda3\\envs\\PythonDataS2022\\lib\\site-packages\\sklearn\\metrics\\_classification.py:1327: UndefinedMetricWarning: Precision is ill-defined and being set to 0.0 due to no predicted samples. Use `zero_division` parameter to control this behavior.\n",
      "  _warn_prf(average, modifier, msg_start, len(result))\n",
      "C:\\Users\\ejwda\\Anaconda3\\envs\\PythonDataS2022\\lib\\site-packages\\sklearn\\metrics\\_classification.py:1327: UndefinedMetricWarning: Precision is ill-defined and being set to 0.0 due to no predicted samples. Use `zero_division` parameter to control this behavior.\n",
      "  _warn_prf(average, modifier, msg_start, len(result))\n",
      "C:\\Users\\ejwda\\Anaconda3\\envs\\PythonDataS2022\\lib\\site-packages\\sklearn\\metrics\\_classification.py:1327: UndefinedMetricWarning: Precision is ill-defined and being set to 0.0 due to no predicted samples. Use `zero_division` parameter to control this behavior.\n",
      "  _warn_prf(average, modifier, msg_start, len(result))\n"
     ]
    }
   ],
   "source": [
    "#Evaluate irfc model\n",
    "'''\n",
    "When using X_train, y_train, the following warning occurs:\n",
    "UndefinedMetricWarning: Precision is ill-defined and being set to 0.0 due to \n",
    "no predicted samples. Use `zero_division` parameter to control this behavior\n",
    "\n",
    "This is because some of the models don't classify any minority class.\n",
    "'''\n",
    "scores = cross_validate(pipeline, X_train, y_train, scoring=scoring, cv=cv)"
   ]
  },
  {
   "cell_type": "code",
   "execution_count": 68,
   "id": "85102de8-ecf8-453c-bbbe-ef79a2d35867",
   "metadata": {},
   "outputs": [
    {
     "name": "stdout",
     "output_type": "stream",
     "text": [
      "Mean f1: 0.220\n",
      "Mean recall: 0.163\n",
      "Mean precision: 0.378\n",
      "AUC: 0.802\n",
      "----------------------------------------------------------------------------------------------------\n",
      "Precision Results for each fold\n"
     ]
    },
    {
     "data": {
      "text/plain": [
       "array([0.        , 0.        , 0.33333333, 0.        , 0.        ,\n",
       "       0.        , 0.        , 1.        , 0.        , 0.33333333,\n",
       "       0.5       , 0.        , 0.66666667, 0.        , 0.5       ,\n",
       "       0.66666667, 0.        , 1.        , 1.        , 0.5       ,\n",
       "       0.5       , 1.        , 1.        , 0.        , 0.5       ,\n",
       "       0.        , 1.        , 0.5       , 0.33333333, 0.        ])"
      ]
     },
     "execution_count": 68,
     "metadata": {},
     "output_type": "execute_result"
    }
   ],
   "source": [
    "print('Mean f1: %.3f' % mean(scores['test_f1']))\n",
    "print('Mean recall: %.3f' % mean(scores['test_recall']))\n",
    "print('Mean precision: %.3f' % mean(scores['test_precision']))\n",
    "print('AUC: %.3f' % mean(scores['test_roc_auc']))\n",
    "print('-----'*20)\n",
    "print('Precision Results for each fold')\n",
    "scores['test_precision']"
   ]
  },
  {
   "cell_type": "code",
   "execution_count": 69,
   "id": "6e750014-63cb-4641-b50b-e7eebab3e110",
   "metadata": {},
   "outputs": [],
   "source": [
    "pipeline.fit(X_train, y_train)\n",
    "y_pred = pipeline.predict(X_test)"
   ]
  },
  {
   "cell_type": "code",
   "execution_count": 70,
   "id": "d7582e27-47b9-4af4-8e9d-2268388e7117",
   "metadata": {},
   "outputs": [
    {
     "name": "stdout",
     "output_type": "stream",
     "text": [
      "              precision    recall  f1-score   support\n",
      "\n",
      "           0       0.92      1.00      0.96        33\n",
      "           1       1.00      0.40      0.57         5\n",
      "\n",
      "    accuracy                           0.92        38\n",
      "   macro avg       0.96      0.70      0.76        38\n",
      "weighted avg       0.93      0.92      0.91        38\n",
      "\n"
     ]
    }
   ],
   "source": [
    "print(classification_report(y_test, y_pred))"
   ]
  },
  {
   "cell_type": "code",
   "execution_count": null,
   "id": "cbe9e3f3-38c2-490c-b66b-ef3b13a7f635",
   "metadata": {},
   "outputs": [],
   "source": []
  },
  {
   "cell_type": "markdown",
   "id": "398d428c-4636-4c23-85b2-5685b17efcb9",
   "metadata": {
    "tags": []
   },
   "source": [
    "### RandomForest Pipeline with SMOTE and Stratified Cross Validation"
   ]
  },
  {
   "cell_type": "code",
   "execution_count": 71,
   "id": "f2552e4c-b8fa-4916-8308-03f1f4655b4a",
   "metadata": {},
   "outputs": [
    {
     "name": "stdout",
     "output_type": "stream",
     "text": [
      "Mean f1: 0.414\n",
      "Mean recall: 0.490\n",
      "Mean precision: 0.371\n",
      "AUC: 0.811\n",
      "----------------------------------------------------------------------------------------------------\n",
      "Precision Results for each fold\n",
      "              precision    recall  f1-score   support\n",
      "\n",
      "           0       0.94      0.88      0.91        33\n",
      "           1       0.43      0.60      0.50         5\n",
      "\n",
      "    accuracy                           0.84        38\n",
      "   macro avg       0.68      0.74      0.70        38\n",
      "weighted avg       0.87      0.84      0.85        38\n",
      "\n"
     ]
    }
   ],
   "source": [
    "irfc = RandomForestClassifier(n_estimators=150, random_state=1)\n",
    "cv = RepeatedStratifiedKFold(n_splits=10, n_repeats=3, random_state=2)\n",
    "scoring = ('f1', 'recall', 'precision', 'roc_auc')\n",
    "steps = [('over', SMOTE(random_state=3)), ('model', irfc)]\n",
    "pipeline = Pipeline(steps=steps)\n",
    "scores = cross_validate(pipeline, X_train, y_train, scoring=scoring, cv=cv)\n",
    "print('Mean f1: %.3f' % mean(scores['test_f1']))\n",
    "print('Mean recall: %.3f' % mean(scores['test_recall']))\n",
    "print('Mean precision: %.3f' % mean(scores['test_precision']))\n",
    "print('AUC: %.3f' % mean(scores['test_roc_auc']))\n",
    "print('-----'*20)\n",
    "print('Precision Results for each fold')\n",
    "pipeline.fit(X_train, y_train)\n",
    "y_pred = pipeline.predict(X_test)\n",
    "print(classification_report(y_test, y_pred))"
   ]
  },
  {
   "cell_type": "code",
   "execution_count": null,
   "id": "86ca2c23-3bab-4314-839a-64001254671b",
   "metadata": {},
   "outputs": [],
   "source": []
  },
  {
   "cell_type": "markdown",
   "id": "f94522fa-0979-4fe4-9eb6-ec5e146f9af1",
   "metadata": {},
   "source": [
    "### BalancedRandomForest Pipeline (imbalanced data)"
   ]
  },
  {
   "cell_type": "code",
   "execution_count": null,
   "id": "91976405-cc7b-439e-a971-31bfbfee6c97",
   "metadata": {},
   "outputs": [],
   "source": []
  },
  {
   "cell_type": "code",
   "execution_count": 72,
   "id": "a713bf7f-db04-44a2-b1c6-a489b7aecb5a",
   "metadata": {},
   "outputs": [],
   "source": [
    "brfc = BalancedRandomForestClassifier(n_estimators=150, random_state=1)\n",
    "cv = RepeatedStratifiedKFold(n_splits=10, n_repeats=3, random_state=2)\n",
    "scoring1 = ('f1', 'recall', 'precision', 'roc_auc')\n",
    "\n",
    "steps1 = [('model1', brfc)]\n",
    "pipeline = Pipeline(steps=steps1)"
   ]
  },
  {
   "cell_type": "code",
   "execution_count": 73,
   "id": "d4fff4f9-70ac-4431-9a01-fe29dc37bf37",
   "metadata": {},
   "outputs": [
    {
     "data": {
      "text/plain": [
       "array([[ 3.23799992,  3.62599993, 14.34000015, ...,  1.        ,\n",
       "         1.50700003, 11.        ],\n",
       "       [ 3.68799996,  3.7980001 , 14.38000011, ...,  1.        ,\n",
       "         0.833     , 16.        ],\n",
       "       [ 3.49000001,  3.49799991, 14.88000011, ...,  1.        ,\n",
       "         1.62099999, 18.        ],\n",
       "       ...,\n",
       "       [ 3.4519999 ,  3.73799992, 16.20999908, ...,  0.        ,\n",
       "         1.91999996, 10.        ],\n",
       "       [ 3.62199998,  3.75200009, 14.32999992, ...,  1.        ,\n",
       "         1.16499999,  8.        ],\n",
       "       [ 3.78600001,  3.51200008, 15.03999996, ...,  1.        ,\n",
       "         1.10699999, 14.        ]])"
      ]
     },
     "execution_count": 73,
     "metadata": {},
     "output_type": "execute_result"
    }
   ],
   "source": [
    "X_train.values"
   ]
  },
  {
   "cell_type": "code",
   "execution_count": 74,
   "id": "917ef98f-bd41-4de3-899e-e6490516a9a2",
   "metadata": {},
   "outputs": [
    {
     "data": {
      "text/plain": [
       "(334,)"
      ]
     },
     "execution_count": 74,
     "metadata": {},
     "output_type": "execute_result"
    }
   ],
   "source": [
    "y_train.shape"
   ]
  },
  {
   "cell_type": "code",
   "execution_count": 75,
   "id": "eb92e329-af89-4780-8cfe-a14eb21d2ffe",
   "metadata": {},
   "outputs": [],
   "source": [
    "#Evaluate SRF model\n",
    "# Note needed to upgrade imbalance-learn to at least 0.9.1 and scikit-learn to at least 1.1.1\n",
    "scores = cross_validate(pipeline, X_train.values, y_train.values, cv=cv, scoring=scoring1)\n",
    "#brfc.fit(X_train.values.reshape(-1, 1), y_train)"
   ]
  },
  {
   "cell_type": "code",
   "execution_count": 76,
   "id": "a9529a0d-39ed-4834-ba0b-64f8f139b547",
   "metadata": {},
   "outputs": [
    {
     "name": "stdout",
     "output_type": "stream",
     "text": [
      "Mean f1: 0.424\n",
      "Mean recall: 0.772\n",
      "Mean precision: 0.296\n",
      "Mean AUC: 0.830\n"
     ]
    }
   ],
   "source": [
    "print('Mean f1: %.3f' % mean(scores['test_f1']))\n",
    "print('Mean recall: %.3f' % mean(scores['test_recall']))\n",
    "print('Mean precision: %.3f' % mean(scores['test_precision']))\n",
    "print('Mean AUC: %.3f' % mean(scores['test_roc_auc']))"
   ]
  },
  {
   "cell_type": "code",
   "execution_count": 77,
   "id": "d78ee571-d485-4e78-a21b-cfb67706dee5",
   "metadata": {},
   "outputs": [],
   "source": [
    "pipeline.fit(X_train, y_train)\n",
    "y_pred = pipeline.predict(X_test)"
   ]
  },
  {
   "cell_type": "code",
   "execution_count": 78,
   "id": "02dc576f-b8b7-4a4a-9fa9-925f8d959428",
   "metadata": {},
   "outputs": [
    {
     "name": "stdout",
     "output_type": "stream",
     "text": [
      "              precision    recall  f1-score   support\n",
      "\n",
      "           0       0.97      0.85      0.90        33\n",
      "           1       0.44      0.80      0.57         5\n",
      "\n",
      "    accuracy                           0.84        38\n",
      "   macro avg       0.70      0.82      0.74        38\n",
      "weighted avg       0.90      0.84      0.86        38\n",
      "\n"
     ]
    }
   ],
   "source": [
    "print(classification_report(y_test, y_pred))"
   ]
  },
  {
   "cell_type": "code",
   "execution_count": null,
   "id": "061c7e09-eba7-4cf0-ae49-8cfaf5bc27a3",
   "metadata": {},
   "outputs": [],
   "source": []
  },
  {
   "cell_type": "markdown",
   "id": "46f7c743-993d-4aca-adc0-eb5f67483393",
   "metadata": {},
   "source": [
    "## Adaboost"
   ]
  },
  {
   "cell_type": "markdown",
   "id": "5d6f2e62-bd1f-4083-898e-743ffce6aead",
   "metadata": {},
   "source": [
    "### AdaBoost Pipeline with Stratified Cross Validation"
   ]
  },
  {
   "cell_type": "code",
   "execution_count": 79,
   "id": "f1f796cc-6279-4cc2-8781-cf3bf85a203a",
   "metadata": {},
   "outputs": [],
   "source": [
    "iabc = AdaBoostClassifier(n_estimators=150, random_state=1)\n",
    "cv = RepeatedStratifiedKFold(n_splits=10, n_repeats=3, random_state=2)\n",
    "scoring = ('f1', 'recall', 'precision', 'roc_auc')\n",
    "steps = [('model', iabc)]\n",
    "pipeline = Pipeline(steps=steps)"
   ]
  },
  {
   "cell_type": "code",
   "execution_count": 80,
   "id": "630eef4f-a83d-419a-9e5d-4d19e80ce74b",
   "metadata": {},
   "outputs": [
    {
     "name": "stdout",
     "output_type": "stream",
     "text": [
      "Mean f1: 0.300\n",
      "Mean recall: 0.287\n",
      "Mean precision: 0.377\n",
      "AUC: 0.701\n",
      "----------------------------------------------------------------------------------------------------\n",
      "Precision Results for each fold\n"
     ]
    },
    {
     "data": {
      "text/plain": [
       "array([0.33333333, 0.33333333, 0.25      , 0.25      , 0.        ,\n",
       "       0.5       , 0.        , 0.75      , 0.        , 0.33333333,\n",
       "       0.5       , 0.5       , 0.        , 0.        , 0.66666667,\n",
       "       0.5       , 1.        , 0.4       , 0.33333333, 0.25      ,\n",
       "       0.5       , 0.25      , 1.        , 0.33333333, 0.66666667,\n",
       "       0.        , 1.        , 0.        , 0.33333333, 0.33333333])"
      ]
     },
     "execution_count": 80,
     "metadata": {},
     "output_type": "execute_result"
    }
   ],
   "source": [
    "scores = cross_validate(pipeline, X_train, y_train, scoring=scoring, cv=cv)\n",
    "print('Mean f1: %.3f' % mean(scores['test_f1']))\n",
    "print('Mean recall: %.3f' % mean(scores['test_recall']))\n",
    "print('Mean precision: %.3f' % mean(scores['test_precision']))\n",
    "print('AUC: %.3f' % mean(scores['test_roc_auc']))\n",
    "print('-----'*20)\n",
    "print('Precision Results for each fold')\n",
    "scores['test_precision']"
   ]
  },
  {
   "cell_type": "code",
   "execution_count": 81,
   "id": "1cf215d5-f168-4df8-b0a0-2aa8b21a29bf",
   "metadata": {},
   "outputs": [],
   "source": [
    "pipeline.fit(X_train, y_train)\n",
    "y_pred = pipeline.predict(X_test)"
   ]
  },
  {
   "cell_type": "code",
   "execution_count": 82,
   "id": "d53463f2-a470-44a8-88b7-c9ad74bad8c7",
   "metadata": {
    "tags": []
   },
   "outputs": [
    {
     "name": "stdout",
     "output_type": "stream",
     "text": [
      "              precision    recall  f1-score   support\n",
      "\n",
      "           0       0.91      0.88      0.89        33\n",
      "           1       0.33      0.40      0.36         5\n",
      "\n",
      "    accuracy                           0.82        38\n",
      "   macro avg       0.62      0.64      0.63        38\n",
      "weighted avg       0.83      0.82      0.82        38\n",
      "\n"
     ]
    }
   ],
   "source": [
    "print(classification_report(y_test, y_pred))"
   ]
  },
  {
   "cell_type": "code",
   "execution_count": null,
   "id": "20994198-0629-4dc7-a49d-6bae130797a7",
   "metadata": {},
   "outputs": [],
   "source": []
  },
  {
   "cell_type": "markdown",
   "id": "45036904-a716-4ef8-9e58-d38a0cfe65cd",
   "metadata": {
    "tags": []
   },
   "source": [
    "### AdaBoost Pipeline with SMOTE and Stratified Cross Validation"
   ]
  },
  {
   "cell_type": "code",
   "execution_count": 83,
   "id": "431ad7e3-7acf-4765-b651-7a325d3cb183",
   "metadata": {},
   "outputs": [],
   "source": [
    "abc = AdaBoostClassifier(n_estimators=150, random_state=1)\n",
    "cv = RepeatedStratifiedKFold(n_splits=10, n_repeats=3, random_state=2)\n",
    "scoring = ('f1', 'recall', 'precision', 'roc_auc')\n",
    "steps = [('over', SMOTE(random_state=3)), ('model', abc)]\n",
    "pipeline = Pipeline(steps=steps)"
   ]
  },
  {
   "cell_type": "code",
   "execution_count": 84,
   "id": "061f47ed-08b7-473f-97e8-4480b6c2b963",
   "metadata": {},
   "outputs": [
    {
     "name": "stdout",
     "output_type": "stream",
     "text": [
      "Mean f1: 0.433\n",
      "Mean recall: 0.557\n",
      "Mean precision: 0.363\n",
      "AUC: 0.730\n",
      "----------------------------------------------------------------------------------------------------\n",
      "Precision Results for each fold\n"
     ]
    },
    {
     "data": {
      "text/plain": [
       "array([0.5       , 0.33333333, 0.375     , 0.2       , 0.33333333,\n",
       "       0.8       , 0.33333333, 0.66666667, 0.15384615, 0.3       ,\n",
       "       0.5       , 0.375     , 0.25      , 0.28571429, 0.33333333,\n",
       "       0.375     , 0.5       , 0.33333333, 0.375     , 0.25      ,\n",
       "       0.375     , 0.33333333, 0.8       , 0.16666667, 0.375     ,\n",
       "       0.2       , 0.16666667, 0.42857143, 0.2       , 0.28571429])"
      ]
     },
     "execution_count": 84,
     "metadata": {},
     "output_type": "execute_result"
    }
   ],
   "source": [
    "scores = cross_validate(pipeline, X_train, y_train, scoring=scoring, cv=cv)\n",
    "print('Mean f1: %.3f' % mean(scores['test_f1']))\n",
    "print('Mean recall: %.3f' % mean(scores['test_recall']))\n",
    "print('Mean precision: %.3f' % mean(scores['test_precision']))\n",
    "print('AUC: %.3f' % mean(scores['test_roc_auc']))\n",
    "print('-----'*20)\n",
    "print('Precision Results for each fold')\n",
    "scores['test_precision']"
   ]
  },
  {
   "cell_type": "code",
   "execution_count": 85,
   "id": "39beb31e-a5cd-404c-9334-fb439a00f70b",
   "metadata": {},
   "outputs": [],
   "source": [
    "pipeline.fit(X_train, y_train)\n",
    "y_pred = pipeline.predict(X_test)"
   ]
  },
  {
   "cell_type": "code",
   "execution_count": 86,
   "id": "2c19dbd1-53b4-456c-bc8c-acdb86c4efb2",
   "metadata": {},
   "outputs": [
    {
     "name": "stdout",
     "output_type": "stream",
     "text": [
      "              precision    recall  f1-score   support\n",
      "\n",
      "           0       0.93      0.85      0.89        33\n",
      "           1       0.38      0.60      0.46         5\n",
      "\n",
      "    accuracy                           0.82        38\n",
      "   macro avg       0.65      0.72      0.68        38\n",
      "weighted avg       0.86      0.82      0.83        38\n",
      "\n"
     ]
    }
   ],
   "source": [
    "print(classification_report(y_test, y_pred))"
   ]
  },
  {
   "cell_type": "code",
   "execution_count": null,
   "id": "482c2969-c905-41b8-a984-e4f51f17fda4",
   "metadata": {},
   "outputs": [],
   "source": []
  },
  {
   "cell_type": "markdown",
   "id": "13a52dd0-b84c-4fb1-aa99-1ee409361225",
   "metadata": {},
   "source": [
    "## Summary"
   ]
  },
  {
   "cell_type": "markdown",
   "id": "71fc86c7-eace-436e-8ead-89d727713363",
   "metadata": {},
   "source": [
    "The best tree model was the BalancedRandomForest() when looking at ROC AUC and f1 and recall.  The recall score was actually very high with an average score of 0.830.  The only metric that did not perform as well is with precision.  Most models the performed the best with precision were RandomForest with SMOTE and AdaBoost; these models showed scores of 0.36 and 0.39 respectively.  \n",
    "\n",
    "Overall I would say that the BalancedRandomForest outperformed the other models.  As seen in these examples, using SMOTE to balance the data showed an increase in overall performance based on the ROC AUC scores.  The Decision Trees and SVC did not perform that differently but Random Forests showed a significant improvement.  \n",
    "\n",
    "Caveat1:  The one thing I don't like about the BalancedRandomForest is the lack of transparency of how many samples it used in it's fitting.  I believe that this model undersamples and I already had a fairly small sample.  \n",
    "\n",
    "Caveat2:  Precision in these models is still low.  \n",
    "\n",
    "- BalancedRandomForest\n",
    "    Mean f1: 0.424\n",
    "    Mean recall: 0.772\n",
    "    Mean precision: 0.296\n",
    "    Mean AUC: 0.830\n",
    "\n",
    "The below results come from the balance-svc-thresholds.ipynb file:  \n",
    "ADASYN Mean f1: 0.279 Mean recall: 0.597 Mean precision: 0.185 Mean ROC AUC: 0.659\n",
    "SMOTE Mean f1: 0.292 Mean recall: 0.578 Mean precision: 0.200 Mean ROC AUC: 0.662"
   ]
  },
  {
   "cell_type": "code",
   "execution_count": null,
   "id": "c721ca02-a8b7-4a0d-8a97-9563f8b1070a",
   "metadata": {},
   "outputs": [],
   "source": []
  },
  {
   "cell_type": "code",
   "execution_count": null,
   "id": "21b4bbff-77b0-4691-9ba5-c9c94e2656ed",
   "metadata": {},
   "outputs": [],
   "source": [
    "- Decision Tree Pipeline with Stratified Cross Validation\n",
    "    Mean f1: 0.314\n",
    "    Mean recall: 0.358\n",
    "    Mean precision: 0.320\n",
    "    Mean ROC AUC: 0.621\n",
    "- Decision Tree Pipeline with SMOTE and Stratified Cross Validation\n",
    "    Mean f1: 0.384\n",
    "    Mean recall: 0.473\n",
    "    Mean precision: 0.337\n",
    "    Mean ROC AUC: 0.660\n",
    "- RandomForest Pipeline with Stratified Cross Validation\n",
    "    Mean f1: 0.220\n",
    "    Mean recall: 0.163\n",
    "    Mean precision: 0.378\n",
    "    AUC: 0.802\n",
    "- RandomForest Pipeline with SMOTE and Stratified Cross Validation\n",
    "    Mean f1: 0.414\n",
    "    Mean recall: 0.490\n",
    "    Mean precision: 0.371\n",
    "    AUC: 0.811\n",
    "- BalancedRandomForest\n",
    "    Mean f1: 0.424\n",
    "    Mean recall: 0.772\n",
    "    Mean precision: 0.296\n",
    "    Mean AUC: 0.830\n",
    "- AdaBoost Pipeline with Stratified Cross Validation\n",
    "    Mean f1: 0.300\n",
    "    Mean recall: 0.287\n",
    "    Mean precision: 0.377\n",
    "    AUC: 0.701\n",
    "- AdaBoost Pipeline with SMOTE and Stratified Cross Validation\n",
    "    Mean f1: 0.433\n",
    "    Mean recall: 0.557\n",
    "    Mean precision: 0.363\n",
    "    AUC: 0.730"
   ]
  },
  {
   "cell_type": "code",
   "execution_count": null,
   "id": "0c4cde03-3f18-46ae-87a3-96d0eeb5344e",
   "metadata": {},
   "outputs": [],
   "source": []
  },
  {
   "cell_type": "code",
   "execution_count": null,
   "id": "12874a1b-2b30-444b-9161-37317191fb5e",
   "metadata": {},
   "outputs": [],
   "source": []
  },
  {
   "cell_type": "code",
   "execution_count": null,
   "id": "8131b37c-84f2-4511-9670-b2f5bd93d3e7",
   "metadata": {},
   "outputs": [],
   "source": []
  },
  {
   "cell_type": "code",
   "execution_count": null,
   "id": "1f175c78-7094-45ff-8340-e93eb66427e0",
   "metadata": {},
   "outputs": [],
   "source": []
  },
  {
   "cell_type": "code",
   "execution_count": null,
   "id": "ab4a8847-44fe-49c9-ba9b-7c70652888d0",
   "metadata": {},
   "outputs": [],
   "source": []
  }
 ],
 "metadata": {
  "kernelspec": {
   "display_name": "Python 3 (ipykernel)",
   "language": "python",
   "name": "python3"
  },
  "language_info": {
   "codemirror_mode": {
    "name": "ipython",
    "version": 3
   },
   "file_extension": ".py",
   "mimetype": "text/x-python",
   "name": "python",
   "nbconvert_exporter": "python",
   "pygments_lexer": "ipython3",
   "version": "3.8.8"
  },
  "vscode": {
   "interpreter": {
    "hash": "143f044a56c468acad165865d089ac2b8daa7cc50e8b23b8f8475aa883faefcd"
   }
  }
 },
 "nbformat": 4,
 "nbformat_minor": 5
}
