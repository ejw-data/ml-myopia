{
 "cells": [
  {
   "cell_type": "code",
   "execution_count": 126,
   "id": "0c5be87e-678f-441a-b06d-c43602c21cd9",
   "metadata": {},
   "outputs": [],
   "source": [
    "# Initial imports\n",
    "import numpy as np\n",
    "import pandas as pd\n",
    "import matplotlib.pyplot as plt\n",
    "from statistics import mean, mode\n",
    "from pathlib import Path\n",
    "from imblearn.pipeline import Pipeline\n",
    "# from sklearn.pipeline import Pipeline\n",
    "from sklearn.preprocessing import StandardScaler\n",
    "from sklearn.model_selection import train_test_split, RepeatedStratifiedKFold, StratifiedKFold, GridSearchCV, cross_val_score, cross_validate, validation_curve\n",
    "from sklearn.decomposition import PCA\n",
    "from sklearn.svm import SVC\n",
    "from sklearn.metrics import accuracy_score, confusion_matrix, classification_report\n",
    "from imblearn.over_sampling import SMOTE"
   ]
  },
  {
   "cell_type": "code",
   "execution_count": 52,
   "id": "4873195b-4962-440d-8568-222f82e17ec3",
   "metadata": {},
   "outputs": [
    {
     "data": {
      "text/html": [
       "<div>\n",
       "<style scoped>\n",
       "    .dataframe tbody tr th:only-of-type {\n",
       "        vertical-align: middle;\n",
       "    }\n",
       "\n",
       "    .dataframe tbody tr th {\n",
       "        vertical-align: top;\n",
       "    }\n",
       "\n",
       "    .dataframe thead th {\n",
       "        text-align: right;\n",
       "    }\n",
       "</style>\n",
       "<table border=\"1\" class=\"dataframe\">\n",
       "  <thead>\n",
       "    <tr style=\"text-align: right;\">\n",
       "      <th></th>\n",
       "      <th>ACD</th>\n",
       "      <th>LT</th>\n",
       "      <th>VCD</th>\n",
       "      <th>SPORTHR</th>\n",
       "      <th>DADMY</th>\n",
       "      <th>delta_spheq</th>\n",
       "      <th>total_positive_screen</th>\n",
       "      <th>MYOPIC</th>\n",
       "    </tr>\n",
       "  </thead>\n",
       "  <tbody>\n",
       "    <tr>\n",
       "      <th>0</th>\n",
       "      <td>3.702</td>\n",
       "      <td>3.392</td>\n",
       "      <td>15.29</td>\n",
       "      <td>4</td>\n",
       "      <td>1</td>\n",
       "      <td>1.358</td>\n",
       "      <td>8</td>\n",
       "      <td>0</td>\n",
       "    </tr>\n",
       "  </tbody>\n",
       "</table>\n",
       "</div>"
      ],
      "text/plain": [
       "     ACD     LT    VCD  SPORTHR  DADMY  delta_spheq  total_positive_screen  \\\n",
       "0  3.702  3.392  15.29        4      1        1.358                      8   \n",
       "\n",
       "   MYOPIC  \n",
       "0       0  "
      ]
     },
     "execution_count": 52,
     "metadata": {},
     "output_type": "execute_result"
    }
   ],
   "source": [
    "# Loading data\n",
    "file_path = Path(\"../eda/reduced_filtered_df.csv\")\n",
    "df = pd.read_csv(file_path)\n",
    "df.head(1)"
   ]
  },
  {
   "cell_type": "code",
   "execution_count": 53,
   "id": "9b127f7a-4f48-453d-876c-d05ebbccb014",
   "metadata": {},
   "outputs": [
    {
     "data": {
      "text/plain": [
       "0    323\n",
       "1     49\n",
       "Name: MYOPIC, dtype: int64"
      ]
     },
     "execution_count": 53,
     "metadata": {},
     "output_type": "execute_result"
    }
   ],
   "source": [
    "# Check dataset balance\n",
    "df[\"MYOPIC\"].value_counts()"
   ]
  },
  {
   "cell_type": "code",
   "execution_count": 54,
   "id": "ce9787f0-fc59-4e7b-a945-529e9e6a3ffc",
   "metadata": {},
   "outputs": [],
   "source": [
    "# Define X,y\n",
    "label = df[\"MYOPIC\"]\n",
    "X = df.iloc[:,:-1].copy()"
   ]
  },
  {
   "cell_type": "code",
   "execution_count": 55,
   "id": "1d5f4969-2938-4215-a1b4-ed39a788b9d7",
   "metadata": {},
   "outputs": [],
   "source": [
    "# Holdback Method with stratify as True\n",
    "X_train, X_test, y_train, y_test = train_test_split(X, label, random_state=42, stratify=label)"
   ]
  },
  {
   "cell_type": "code",
   "execution_count": 56,
   "id": "4de2f8e6-20e6-4601-8e3f-4fd73ff39483",
   "metadata": {},
   "outputs": [
    {
     "data": {
      "text/plain": [
       "93"
      ]
     },
     "execution_count": 56,
     "metadata": {},
     "output_type": "execute_result"
    }
   ],
   "source": [
    "len(y_test)"
   ]
  },
  {
   "cell_type": "markdown",
   "id": "0f90fe50-d06f-4155-a312-5bf9d590cf98",
   "metadata": {},
   "source": [
    "## SVC Unbalanced Data\n",
    "- linear kernel"
   ]
  },
  {
   "cell_type": "code",
   "execution_count": 57,
   "id": "ff44b49a-794b-4133-bf9c-8c102b2b08d2",
   "metadata": {},
   "outputs": [
    {
     "name": "stdout",
     "output_type": "stream",
     "text": [
      "Score:  0.8888888888888888\n",
      " Training Classification Report:  \n",
      "               precision    recall  f1-score   support\n",
      "\n",
      "           0       0.89      1.00      0.94       242\n",
      "           1       1.00      0.16      0.28        37\n",
      "\n",
      "    accuracy                           0.89       279\n",
      "   macro avg       0.94      0.58      0.61       279\n",
      "weighted avg       0.90      0.89      0.85       279\n",
      "\n",
      "--------------------------------------------------\n",
      " Training Classification Report:  \n",
      "               precision    recall  f1-score   support\n",
      "\n",
      "           0       0.88      1.00      0.94        81\n",
      "           1       1.00      0.08      0.15        12\n",
      "\n",
      "    accuracy                           0.88        93\n",
      "   macro avg       0.94      0.54      0.55        93\n",
      "weighted avg       0.90      0.88      0.84        93\n",
      "\n"
     ]
    }
   ],
   "source": [
    "# create process steps\n",
    "pipes = [\n",
    "    (\"scaler\", StandardScaler()),\n",
    "    (\"svc\", SVC(random_state=2))\n",
    "]\n",
    "\n",
    "# create pipeline\n",
    "pipeline = Pipeline(pipes)\n",
    "\n",
    "# Train the scaler with the X_train data.\n",
    "pipeline.fit(X_train, y_train)\n",
    "\n",
    "# evaluate model\n",
    "print(f\"Score:  {pipeline.score(X_train, y_train):>10}\")\n",
    "\n",
    "y_train_pred = pipeline.predict(X_train)\n",
    "print(f\" Training Classification Report:  \\n {classification_report(y_train, y_train_pred)}\")\n",
    "print(f\"-----\"*10)\n",
    "y_test_pred = pipeline.predict(X_test)\n",
    "print(f\" Testing Classification Report:  \\n {classification_report(y_test, y_test_pred)}\")\n"
   ]
  },
  {
   "cell_type": "markdown",
   "id": "cd4420a8-cf4f-43b0-9f12-ab84291a75da",
   "metadata": {},
   "source": [
    "## SVC Unbalanced Data GridsearchCV"
   ]
  },
  {
   "cell_type": "code",
   "execution_count": 63,
   "id": "407ee0c4-1a42-4c91-bbda-85a8d1d6e531",
   "metadata": {},
   "outputs": [
    {
     "name": "stdout",
     "output_type": "stream",
     "text": [
      "Score:  0.8924731182795699\n",
      " Classification Report:  \n",
      "               precision    recall  f1-score   support\n",
      "\n",
      "           0       0.90      0.99      0.94       242\n",
      "           1       0.82      0.24      0.38        37\n",
      "\n",
      "    accuracy                           0.89       279\n",
      "   macro avg       0.86      0.62      0.66       279\n",
      "weighted avg       0.89      0.89      0.87       279\n",
      "\n",
      "--------------------------------------------------\n",
      " Training Classification Report:  \n",
      "               precision    recall  f1-score   support\n",
      "\n",
      "           0       0.91      1.00      0.95        81\n",
      "           1       1.00      0.33      0.50        12\n",
      "\n",
      "    accuracy                           0.91        93\n",
      "   macro avg       0.96      0.67      0.73        93\n",
      "weighted avg       0.92      0.91      0.89        93\n",
      "\n"
     ]
    }
   ],
   "source": [
    "# create process steps\n",
    "pipes = [\n",
    "    (\"scaler\", StandardScaler()),\n",
    "    (\"svc\", SVC(random_state=2))\n",
    "]\n",
    "\n",
    "# create pipeline\n",
    "pipeline = Pipeline(pipes)\n",
    "\n",
    "# set gridsearch parameters\n",
    "params = {\n",
    "    \"svc__C\": [0.0001, 0.001, 0.01, 0.1, 1, 5, 10, 50, 100, 1000]\n",
    "}\n",
    "\n",
    "# gridsearch with 5 fold cross validation setup\n",
    "grid = GridSearchCV(pipeline, params);\n",
    "\n",
    "# Train the scaler with the X_train data.\n",
    "grid.fit(X_train, y_train)\n",
    "\n",
    "# evaluate model\n",
    "print(f\"Score:  {grid.score(X_train, y_train):>10}\")\n",
    "\n",
    "y_train_pred = grid.predict(X_train)\n",
    "print(f\" Training Classification Report:  \\n {classification_report(y_train, y_train_pred)}\")\n",
    "print(f\"-----\"*10)\n",
    "y_test_pred = grid.predict(X_test)\n",
    "print(f\" Testing Classification Report:  \\n {classification_report(y_test, y_test_pred)}\")"
   ]
  },
  {
   "cell_type": "code",
   "execution_count": 64,
   "id": "634ee42a-c03d-45a7-8b88-7a1850360618",
   "metadata": {},
   "outputs": [
    {
     "data": {
      "text/plain": [
       "{'svc__C': 100, 'svc__gamma': 0.01}"
      ]
     },
     "execution_count": 64,
     "metadata": {},
     "output_type": "execute_result"
    }
   ],
   "source": [
    "# print params\n",
    "grid.best_params_"
   ]
  },
  {
   "cell_type": "markdown",
   "id": "30491169-2674-4630-b57d-2aa1c1c3eb9c",
   "metadata": {},
   "source": [
    "## SVC Unbalanced Data PCA GridsearchCV"
   ]
  },
  {
   "cell_type": "code",
   "execution_count": 76,
   "id": "5d64081e-6a3c-43f6-b636-ea737a598b53",
   "metadata": {},
   "outputs": [
    {
     "name": "stdout",
     "output_type": "stream",
     "text": [
      "Score:  0.8853046594982079\n",
      " Classification Report:  \n",
      "               precision    recall  f1-score   support\n",
      "\n",
      "           0       0.89      1.00      0.94       242\n",
      "           1       0.86      0.16      0.27        37\n",
      "\n",
      "    accuracy                           0.89       279\n",
      "   macro avg       0.87      0.58      0.61       279\n",
      "weighted avg       0.88      0.89      0.85       279\n",
      "\n",
      "--------------------------------------------------\n",
      " Training Classification Report:  \n",
      "               precision    recall  f1-score   support\n",
      "\n",
      "           0       0.91      1.00      0.95        81\n",
      "           1       1.00      0.33      0.50        12\n",
      "\n",
      "    accuracy                           0.91        93\n",
      "   macro avg       0.96      0.67      0.73        93\n",
      "weighted avg       0.92      0.91      0.89        93\n",
      "\n"
     ]
    }
   ],
   "source": [
    "# create process steps\n",
    "pipes = [\n",
    "    (\"scaler\", StandardScaler()),\n",
    "    (\"pca\", PCA(random_state=1)),\n",
    "    (\"svc\", SVC(random_state=2))\n",
    "]\n",
    "\n",
    "# create pipeline\n",
    "pipeline = Pipeline(pipes)\n",
    "\n",
    "# set gridsearch parameters\n",
    "params = {\n",
    "    \"svc__C\": [0.0001, 0.001, 0.01, 0.1, 1, 5, 10, 50, 100, 1000],\n",
    "    \"pca__n_components\":[4,5,6,7]\n",
    "}\n",
    "\n",
    "# gridsearch with 5 fold cross validation setup\n",
    "grid = GridSearchCV(pipeline, params);\n",
    "\n",
    "# Train the scaler with the X_train data.\n",
    "grid.fit(X_train, y_train)\n",
    "\n",
    "# evaluate model\n",
    "print(f\"Score:  {grid.score(X_train, y_train):>10}\")\n",
    "\n",
    "y_train_pred = grid.predict(X_train)\n",
    "print(f\"Training Classification Report:  \\n {classification_report(y_train, y_train_pred)}\")\n",
    "print(f\"-----\"*10)\n",
    "y_test_pred = grid.predict(X_test)\n",
    "print(f\"Testing Classification Report:  \\n {classification_report(y_test, y_test_pred)}\")"
   ]
  },
  {
   "cell_type": "code",
   "execution_count": 77,
   "id": "60d927d0-cd31-4c76-9424-0720ff87893c",
   "metadata": {},
   "outputs": [
    {
     "data": {
      "text/plain": [
       "{'pca__n_components': 4, 'svc__C': 5, 'svc__gamma': 0.1}"
      ]
     },
     "execution_count": 77,
     "metadata": {},
     "output_type": "execute_result"
    }
   ],
   "source": [
    "# print params\n",
    "grid.best_params_"
   ]
  },
  {
   "cell_type": "code",
   "execution_count": null,
   "id": "7d0497e5-174e-4e29-8664-e6d481ec4cfb",
   "metadata": {},
   "outputs": [],
   "source": []
  },
  {
   "cell_type": "markdown",
   "id": "cc40deff-70dc-4c51-a20a-bab31b721a3b",
   "metadata": {},
   "source": [
    "## SVC Balanced Data"
   ]
  },
  {
   "cell_type": "code",
   "execution_count": 78,
   "id": "c148e74c-ee71-4e6f-a627-dd692799f972",
   "metadata": {},
   "outputs": [
    {
     "name": "stdout",
     "output_type": "stream",
     "text": [
      "Score:  0.8709677419354839\n",
      " Classification Report:  \n",
      "               precision    recall  f1-score   support\n",
      "\n",
      "           0       0.98      0.87      0.92       242\n",
      "           1       0.51      0.89      0.65        37\n",
      "\n",
      "    accuracy                           0.87       279\n",
      "   macro avg       0.74      0.88      0.78       279\n",
      "weighted avg       0.92      0.87      0.88       279\n",
      "\n",
      "--------------------------------------------------\n",
      " Training Classification Report:  \n",
      "               precision    recall  f1-score   support\n",
      "\n",
      "           0       0.92      0.88      0.90        81\n",
      "           1       0.38      0.50      0.43        12\n",
      "\n",
      "    accuracy                           0.83        93\n",
      "   macro avg       0.65      0.69      0.66        93\n",
      "weighted avg       0.85      0.83      0.84        93\n",
      "\n"
     ]
    }
   ],
   "source": [
    "# create process steps\n",
    "pipes = [\n",
    "    (\"over\", SMOTE(random_state=1)),\n",
    "    (\"scaler\", StandardScaler()),\n",
    "    (\"svc\", SVC(random_state=2))\n",
    "]\n",
    "\n",
    "# create pipeline\n",
    "pipeline = Pipeline(pipes)\n",
    "\n",
    "# Train the scaler with the X_train data.\n",
    "pipeline.fit(X_train, y_train)\n",
    "\n",
    "# evaluate model\n",
    "print(f\"Score:  {pipeline.score(X_train, y_train):>10}\")\n",
    "\n",
    "y_train_pred = pipeline.predict(X_train)\n",
    "print(f\"Training Classification Report:  \\n {classification_report(y_train, y_train_pred)}\")\n",
    "print(f\"-----\"*10)\n",
    "y_test_pred = pipeline.predict(X_test)\n",
    "print(f\"Testing Classification Report:  \\n {classification_report(y_test, y_test_pred)}\")"
   ]
  },
  {
   "cell_type": "code",
   "execution_count": null,
   "id": "06d11816-2195-4efe-b8a7-54f8821e225d",
   "metadata": {},
   "outputs": [],
   "source": []
  },
  {
   "cell_type": "markdown",
   "id": "da802a08-c1ab-4852-84b3-9f54f870fcb9",
   "metadata": {},
   "source": [
    "## SVC Balanced Data PCA GridsearchCV"
   ]
  },
  {
   "cell_type": "code",
   "execution_count": 79,
   "id": "aac1f763-c14d-41e8-8d40-237a08a55731",
   "metadata": {},
   "outputs": [
    {
     "name": "stdout",
     "output_type": "stream",
     "text": [
      "Score:  0.978494623655914\n",
      " Classification Report:  \n",
      "               precision    recall  f1-score   support\n",
      "\n",
      "           0       0.98      1.00      0.99       242\n",
      "           1       1.00      0.84      0.91        37\n",
      "\n",
      "    accuracy                           0.98       279\n",
      "   macro avg       0.99      0.92      0.95       279\n",
      "weighted avg       0.98      0.98      0.98       279\n",
      "\n",
      "--------------------------------------------------\n",
      " Training Classification Report:  \n",
      "               precision    recall  f1-score   support\n",
      "\n",
      "           0       0.87      1.00      0.93        81\n",
      "           1       0.00      0.00      0.00        12\n",
      "\n",
      "    accuracy                           0.87        93\n",
      "   macro avg       0.44      0.50      0.47        93\n",
      "weighted avg       0.76      0.87      0.81        93\n",
      "\n"
     ]
    },
    {
     "name": "stderr",
     "output_type": "stream",
     "text": [
      "C:\\Users\\ejwda\\Anaconda3\\envs\\PythonDataS2022\\lib\\site-packages\\sklearn\\metrics\\_classification.py:1327: UndefinedMetricWarning: Precision and F-score are ill-defined and being set to 0.0 in labels with no predicted samples. Use `zero_division` parameter to control this behavior.\n",
      "  _warn_prf(average, modifier, msg_start, len(result))\n",
      "C:\\Users\\ejwda\\Anaconda3\\envs\\PythonDataS2022\\lib\\site-packages\\sklearn\\metrics\\_classification.py:1327: UndefinedMetricWarning: Precision and F-score are ill-defined and being set to 0.0 in labels with no predicted samples. Use `zero_division` parameter to control this behavior.\n",
      "  _warn_prf(average, modifier, msg_start, len(result))\n",
      "C:\\Users\\ejwda\\Anaconda3\\envs\\PythonDataS2022\\lib\\site-packages\\sklearn\\metrics\\_classification.py:1327: UndefinedMetricWarning: Precision and F-score are ill-defined and being set to 0.0 in labels with no predicted samples. Use `zero_division` parameter to control this behavior.\n",
      "  _warn_prf(average, modifier, msg_start, len(result))\n"
     ]
    }
   ],
   "source": [
    "# create process steps\n",
    "pipes = [\n",
    "    (\"over\", SMOTE(random_state=1)),\n",
    "    (\"scaler\", StandardScaler()),\n",
    "    (\"pca\", PCA(random_state=1)),\n",
    "    (\"svc\", SVC(random_state=2))\n",
    "]\n",
    "\n",
    "# create pipeline\n",
    "pipeline = Pipeline(pipes)\n",
    "\n",
    "# set gridsearch parameters\n",
    "params = {\n",
    "    \"svc__C\": [0.0001, 0.001, 0.01, 0.1, 1, 5, 10, 50, 100, 1000],\n",
    "    \"pca__n_components\":[4,5,6,7]\n",
    "}\n",
    "\n",
    "# gridsearch with 5 fold cross validation setup\n",
    "grid = GridSearchCV(pipeline, params);\n",
    "\n",
    "# Train the scaler with the X_train data.\n",
    "grid.fit(X_train, y_train)\n",
    "\n",
    "# evaluate model\n",
    "print(f\"Score:  {grid.score(X_train, y_train):>10}\")\n",
    "\n",
    "y_train_pred = grid.predict(X_train)\n",
    "print(f\"Training Classification Report:  \\n {classification_report(y_train, y_train_pred)}\")\n",
    "print(f\"-----\"*10)\n",
    "y_test_pred = grid.predict(X_test)\n",
    "print(f\"Testing Classification Report:  \\n {classification_report(y_test, y_test_pred)}\")"
   ]
  },
  {
   "cell_type": "code",
   "execution_count": 80,
   "id": "46124c5a-d27e-4677-8389-f6b586c34cef",
   "metadata": {},
   "outputs": [
    {
     "data": {
      "text/plain": [
       "{'pca__n_components': 5, 'svc__C': 0.0001, 'svc__gamma': 10}"
      ]
     },
     "execution_count": 80,
     "metadata": {},
     "output_type": "execute_result"
    }
   ],
   "source": [
    "# print params\n",
    "grid.best_params_"
   ]
  },
  {
   "cell_type": "markdown",
   "id": "ac9f73e0-a9ad-4255-bbcb-b81400ea9420",
   "metadata": {},
   "source": [
    "## SVC Balanced Data Weighted GridsearchCV"
   ]
  },
  {
   "cell_type": "code",
   "execution_count": 70,
   "id": "2c20341a-0414-4d39-aa26-abde3eea9e1c",
   "metadata": {},
   "outputs": [
    {
     "name": "stdout",
     "output_type": "stream",
     "text": [
      "Score:  0.9283154121863799\n",
      " Classification Report:  \n",
      "               precision    recall  f1-score   support\n",
      "\n",
      "           0       0.93      0.99      0.96       242\n",
      "           1       0.90      0.51      0.66        37\n",
      "\n",
      "    accuracy                           0.93       279\n",
      "   macro avg       0.92      0.75      0.81       279\n",
      "weighted avg       0.93      0.93      0.92       279\n",
      "\n",
      "--------------------------------------------------\n",
      " Training Classification Report:  \n",
      "               precision    recall  f1-score   support\n",
      "\n",
      "           0       0.88      1.00      0.94        81\n",
      "           1       1.00      0.08      0.15        12\n",
      "\n",
      "    accuracy                           0.88        93\n",
      "   macro avg       0.94      0.54      0.55        93\n",
      "weighted avg       0.90      0.88      0.84        93\n",
      "\n"
     ]
    }
   ],
   "source": [
    "# create process steps\n",
    "pipes = [\n",
    "    (\"over\", SMOTE(random_state=1)),\n",
    "    (\"scaler\", StandardScaler()),\n",
    "    (\"svc\", SVC(random_state=2, class_weight='balanced'))\n",
    "]\n",
    "\n",
    "# create pipeline\n",
    "pipeline = Pipeline(pipes)\n",
    "\n",
    "# set gridsearch parameters\n",
    "params = {\n",
    "    \"svc__C\": [0.0001, 0.001, 0.01, 0.1, 1, 5, 10, 50, 100, 1000],\n",
    "}\n",
    "\n",
    "# gridsearch with 5 fold cross validation setup\n",
    "grid = GridSearchCV(pipeline, params);\n",
    "\n",
    "# Train the scaler with the X_train data.\n",
    "grid.fit(X_train, y_train)\n",
    "\n",
    "# evaluate model\n",
    "print(f\"Score:  {grid.score(X_train, y_train):>10}\")\n",
    "\n",
    "y_train_pred = grid.predict(X_train)\n",
    "print(f\"Training Classification Report:  \\n {classification_report(y_train, y_train_pred)}\")\n",
    "print(f\"-----\"*10)\n",
    "y_test_pred = grid.predict(X_test)\n",
    "print(f\"Testing Classification Report:  \\n {classification_report(y_test, y_test_pred)}\")"
   ]
  },
  {
   "cell_type": "code",
   "execution_count": 71,
   "id": "00390b39-56de-4f2b-a5e9-f5a632aecb10",
   "metadata": {},
   "outputs": [
    {
     "data": {
      "text/plain": [
       "{'svc__C': 0.0001, 'svc__gamma': 1}"
      ]
     },
     "execution_count": 71,
     "metadata": {},
     "output_type": "execute_result"
    }
   ],
   "source": [
    "# print params\n",
    "grid.best_params_"
   ]
  },
  {
   "cell_type": "code",
   "execution_count": null,
   "id": "04d87427-e1d8-4cfb-ba91-7d1cc51ec6f3",
   "metadata": {},
   "outputs": [],
   "source": [
    "# evaluation metrics\n",
    "scoring = ('f1', 'recall', 'precision', 'roc_auc')\n",
    "\n",
    "# 5 fold cross validation\n",
    "cv = StratifiedKFold(n_splits=5)\n",
    "\n",
    "# create process steps\n",
    "pipes = [\n",
    "    (\"over\", SMOTE(random_state=1)),\n",
    "    (\"scaler\", StandardScaler()),\n",
    "    (\"svc\", SVC(random_state=2, class_weight='balanced', C= 0.0001))\n",
    "]\n",
    "\n",
    "# create pipeline\n",
    "pipeline = Pipeline(pipes)\n",
    "\n",
    "# evaluate pipeline\n",
    "scores = cross_validate(pipeline, X_train, y_train, scoring=scoring, cv=cv, n_jobs=-1)\n",
    "print('Mean f1: %.3f' % mean(scores['test_f1']))\n",
    "print('Mean recall: %.3f' % mean(scores['test_recall']))\n",
    "print('Mean precision: %.3f' % mean(scores['test_precision']))\n",
    "print('Mean ROC AUC: %.3f' % mean(scores['test_roc_auc']))\n",
    "pipeline.fit(X_train, y_train)\n",
    "y_pred = pipeline.predict(X_test)\n",
    "print(f\"-----\"*10)\n",
    "print(classification_report(y_test, y_pred))"
   ]
  },
  {
   "cell_type": "markdown",
   "id": "610a7a4c-c2c3-463c-a951-59fa29e0fd2f",
   "metadata": {},
   "source": [
    "## SVC Balanced Data PCA Weighted GridsearchCV "
   ]
  },
  {
   "cell_type": "code",
   "execution_count": 143,
   "id": "b52848b5-ca69-405e-a7ba-c09f5631c8f3",
   "metadata": {},
   "outputs": [
    {
     "name": "stdout",
     "output_type": "stream",
     "text": [
      "Score:  0.996415770609319\n",
      " Training Classification Report:  \n",
      "               precision    recall  f1-score   support\n",
      "\n",
      "           0       1.00      1.00      1.00       242\n",
      "           1       0.97      1.00      0.99        37\n",
      "\n",
      "    accuracy                           1.00       279\n",
      "   macro avg       0.99      1.00      0.99       279\n",
      "weighted avg       1.00      1.00      1.00       279\n",
      "\n",
      "--------------------------------------------------\n",
      "Testing Classification Report:  \n",
      "               precision    recall  f1-score   support\n",
      "\n",
      "           0       0.90      0.85      0.87        81\n",
      "           1       0.25      0.33      0.29        12\n",
      "\n",
      "    accuracy                           0.78        93\n",
      "   macro avg       0.57      0.59      0.58        93\n",
      "weighted avg       0.81      0.78      0.80        93\n",
      "\n"
     ]
    }
   ],
   "source": [
    "# create process steps\n",
    "pipes = [\n",
    "    (\"over\", SMOTE(random_state=1)),\n",
    "    (\"scaler\", StandardScaler()),\n",
    "    (\"pca\", PCA(random_state=1)),\n",
    "    (\"svc\", SVC(random_state=2, class_weight='balanced'))\n",
    "]\n",
    "\n",
    "# create pipeline\n",
    "pipeline = Pipeline(pipes)\n",
    "\n",
    "# set gridsearch parameters\n",
    "params = {\n",
    "    \"svc__C\": [0.0001, 0.001, 0.01, 0.1, 1, 5, 10, 50, 100, 1000],\n",
    "    \"pca__n_components\":[4,5,6,7]\n",
    "}\n",
    "\n",
    "# gridsearch with 5 fold cross validation setup\n",
    "grid = GridSearchCV(pipeline, params);\n",
    "\n",
    "# Train the scaler with the X_train data.\n",
    "grid.fit(X_train, y_train)\n",
    "\n",
    "# evaluate model\n",
    "print(f\"Score:  {grid.score(X_train, y_train):>10}\")\n",
    "\n",
    "y_train_pred = grid.predict(X_train)\n",
    "print(f\" Training Classification Report:  \\n {classification_report(y_train, y_train_pred)}\")\n",
    "print(f\"-----\"*10)\n",
    "y_test_pred = grid.predict(X_test)\n",
    "print(f\"Testing Classification Report:  \\n {classification_report(y_test, y_test_pred)}\")"
   ]
  },
  {
   "cell_type": "code",
   "execution_count": 144,
   "id": "7f78fb06-9967-4cf0-a61c-b4e938e292b3",
   "metadata": {},
   "outputs": [
    {
     "data": {
      "text/plain": [
       "{'pca__n_components': 5, 'svc__C': 1000}"
      ]
     },
     "execution_count": 144,
     "metadata": {},
     "output_type": "execute_result"
    }
   ],
   "source": [
    "# print params\n",
    "grid.best_params_"
   ]
  },
  {
   "cell_type": "code",
   "execution_count": 145,
   "id": "2d8b4892-3489-4b3d-a7c7-4628d62e2efd",
   "metadata": {},
   "outputs": [],
   "source": [
    "# Training is most likely overfitting\n",
    "# Need to limit turning parameters to generalize the fit so \n",
    "# Will manually increase the C and decrease gamma"
   ]
  },
  {
   "cell_type": "code",
   "execution_count": 146,
   "id": "5821da50-ec2a-45ce-9d51-36a28a8bb420",
   "metadata": {},
   "outputs": [
    {
     "name": "stdout",
     "output_type": "stream",
     "text": [
      "Score:  0.996415770609319\n",
      " Classification Report:  \n",
      "               precision    recall  f1-score   support\n",
      "\n",
      "           0       1.00      1.00      1.00       242\n",
      "           1       0.97      1.00      0.99        37\n",
      "\n",
      "    accuracy                           1.00       279\n",
      "   macro avg       0.99      1.00      0.99       279\n",
      "weighted avg       1.00      1.00      1.00       279\n",
      "\n",
      "--------------------------------------------------\n",
      " Training Classification Report:  \n",
      "               precision    recall  f1-score   support\n",
      "\n",
      "           0       0.90      0.85      0.87        81\n",
      "           1       0.25      0.33      0.29        12\n",
      "\n",
      "    accuracy                           0.78        93\n",
      "   macro avg       0.57      0.59      0.58        93\n",
      "weighted avg       0.81      0.78      0.80        93\n",
      "\n"
     ]
    }
   ],
   "source": [
    "# create process steps\n",
    "pipes = [\n",
    "    (\"over\", SMOTE(random_state=1)),\n",
    "    (\"scaler\", StandardScaler()),\n",
    "    (\"pca\", PCA(random_state=1)),\n",
    "    (\"svc\", SVC(random_state=2, class_weight='balanced'))\n",
    "]\n",
    "\n",
    "# create pipeline\n",
    "pipeline = Pipeline(pipes)\n",
    "\n",
    "# set gridsearch parameters\n",
    "params = {\n",
    "    \"svc__C\": [1000,2000, 5000, 10000],\n",
    "    \"pca__n_components\":[4,5,6,7]\n",
    "}\n",
    "\n",
    "# gridsearch with 5 fold cross validation setup\n",
    "grid = GridSearchCV(pipeline, params);\n",
    "\n",
    "# Train the scaler with the X_train data.\n",
    "grid.fit(X_train, y_train)\n",
    "\n",
    "# evaluate model\n",
    "print(f\"Score:  {grid.score(X_train, y_train):>10}\")\n",
    "\n",
    "y_train_pred = grid.predict(X_train)\n",
    "print(f\" Classification Report:  \\n {classification_report(y_train, y_train_pred)}\")\n",
    "print(f\"-----\"*10)\n",
    "y_test_pred = grid.predict(X_test)\n",
    "print(f\" Training Classification Report:  \\n {classification_report(y_test, y_test_pred)}\")"
   ]
  },
  {
   "cell_type": "code",
   "execution_count": 147,
   "id": "08b2c9dc-8494-4b1a-b749-2dc4835caad6",
   "metadata": {},
   "outputs": [
    {
     "data": {
      "text/plain": [
       "{'pca__n_components': 5, 'svc__C': 1000}"
      ]
     },
     "execution_count": 147,
     "metadata": {},
     "output_type": "execute_result"
    }
   ],
   "source": [
    "# The training and testing are starting to converge\n",
    "\n",
    "# print params\n",
    "grid.best_params_"
   ]
  },
  {
   "cell_type": "markdown",
   "id": "caa8fcdb-4369-4c0e-bd60-df6a3a03f258",
   "metadata": {},
   "source": [
    "### Retest Method"
   ]
  },
  {
   "cell_type": "code",
   "execution_count": 148,
   "id": "0797a44e-1655-4e44-a30f-1b85ed805ebd",
   "metadata": {},
   "outputs": [
    {
     "name": "stdout",
     "output_type": "stream",
     "text": [
      "Training Score:         1.0\n",
      " Classification Report:  \n",
      "               precision    recall  f1-score   support\n",
      "\n",
      "           0       1.00      1.00      1.00       242\n",
      "           1       1.00      1.00      1.00        37\n",
      "\n",
      "    accuracy                           1.00       279\n",
      "   macro avg       1.00      1.00      1.00       279\n",
      "weighted avg       1.00      1.00      1.00       279\n",
      "\n",
      "--------------------------------------------------\n",
      " Training Classification Report:  \n",
      "               precision    recall  f1-score   support\n",
      "\n",
      "           0       0.91      0.88      0.89        81\n",
      "           1       0.33      0.42      0.37        12\n",
      "\n",
      "    accuracy                           0.82        93\n",
      "   macro avg       0.62      0.65      0.63        93\n",
      "weighted avg       0.84      0.82      0.83        93\n",
      "\n"
     ]
    }
   ],
   "source": [
    "# create process steps\n",
    "pipes = [\n",
    "    (\"over\", SMOTE(random_state=1)),\n",
    "    (\"scaler\", StandardScaler()),\n",
    "    (\"pca\", PCA(random_state=1, n_components=6)),\n",
    "    (\"svc\", SVC(random_state=2, class_weight='balanced', C= 2000))\n",
    "]\n",
    "\n",
    "# create pipeline\n",
    "pipeline = Pipeline(pipes)\n",
    "\n",
    "# Train the scaler with the X_train data.\n",
    "pipeline.fit(X_train, y_train)\n",
    "\n",
    "# evaluate model\n",
    "print(f\"Training Score:  {pipeline.score(X_train, y_train):>10}\")\n",
    "\n",
    "y_train_pred = pipeline.predict(X_train)\n",
    "print(f\" Classification Report:  \\n {classification_report(y_train, y_train_pred)}\")\n",
    "print(f\"-----\"*10)\n",
    "y_test_pred = pipeline.predict(X_test)\n",
    "print(f\" Training Classification Report:  \\n {classification_report(y_test, y_test_pred)}\")"
   ]
  },
  {
   "cell_type": "code",
   "execution_count": null,
   "id": "503067ff-e7a6-40b6-bde3-9695692fcf46",
   "metadata": {},
   "outputs": [],
   "source": []
  },
  {
   "cell_type": "markdown",
   "id": "f7c6ca48-b489-4f93-a4a7-c6e1951e66a0",
   "metadata": {},
   "source": [
    "### Different Cross Validation Method"
   ]
  },
  {
   "cell_type": "code",
   "execution_count": 149,
   "id": "c34c8fcd-4800-40a3-80bf-a93a78fc4664",
   "metadata": {},
   "outputs": [
    {
     "name": "stdout",
     "output_type": "stream",
     "text": [
      "Mean f1: 0.457\n",
      "Mean recall: 0.571\n",
      "Mean precision: 0.395\n",
      "Mean ROC AUC: 0.777\n",
      "--------------------------------------------------\n",
      "              precision    recall  f1-score   support\n",
      "\n",
      "           0       0.91      0.88      0.89        81\n",
      "           1       0.33      0.42      0.37        12\n",
      "\n",
      "    accuracy                           0.82        93\n",
      "   macro avg       0.62      0.65      0.63        93\n",
      "weighted avg       0.84      0.82      0.83        93\n",
      "\n"
     ]
    }
   ],
   "source": [
    "# evaluation metrics\n",
    "scoring = ('f1', 'recall', 'precision', 'roc_auc')\n",
    "\n",
    "# 5 fold cross validation\n",
    "cv = StratifiedKFold(n_splits=5)\n",
    "\n",
    "# create process steps\n",
    "pipes = [\n",
    "    (\"over\", SMOTE(random_state=1)),\n",
    "    (\"scaler\", StandardScaler()),\n",
    "    (\"pca\", PCA(random_state=1, n_components=6)),\n",
    "    (\"svc\", SVC(random_state=2, class_weight='balanced', C= 2000))\n",
    "]\n",
    "\n",
    "# create pipeline\n",
    "pipeline = Pipeline(pipes)\n",
    "\n",
    "# evaluate pipeline\n",
    "scores = cross_validate(pipeline, X_train, y_train, scoring=scoring, cv=cv, n_jobs=-1)\n",
    "print('Mean f1: %.3f' % mean(scores['test_f1']))\n",
    "print('Mean recall: %.3f' % mean(scores['test_recall']))\n",
    "print('Mean precision: %.3f' % mean(scores['test_precision']))\n",
    "print('Mean ROC AUC: %.3f' % mean(scores['test_roc_auc']))\n",
    "pipeline.fit(X_train, y_train)\n",
    "y_pred = pipeline.predict(X_test)\n",
    "print(f\"-----\"*10)\n",
    "print(classification_report(y_test, y_pred))"
   ]
  },
  {
   "cell_type": "code",
   "execution_count": 151,
   "id": "61af93ff-4754-4aa6-b56c-d683defbd818",
   "metadata": {},
   "outputs": [],
   "source": [
    "# Validation curve\n",
    "param_range = [0.001, 0.01, 0.1, 1, 10.0, 20.0]\n",
    "\n",
    "train_scores, test_scores = validation_curve(estimator=pipeline,\n",
    "                                             X=X_train, y=y_train,\n",
    "                                             cv=5,\n",
    "                                             param_name='svc__C', \n",
    "                                             param_range=param_range)"
   ]
  },
  {
   "cell_type": "code",
   "execution_count": 152,
   "id": "749a4cdd-0794-46f4-a7a6-38fccfa20ab8",
   "metadata": {},
   "outputs": [
    {
     "data": {
      "image/png": "[encoded data removed]",
      "text/plain": [
       "<Figure size 432x288 with 1 Axes>"
      ]
     },
     "metadata": {
      "needs_background": "light"
     },
     "output_type": "display_data"
    }
   ],
   "source": [
    "train_mean = np.mean(train_scores, axis=1)\n",
    "test_mean = np.mean(test_scores, axis=1)\n",
    "\n",
    "plt.plot(param_range, train_mean,\n",
    "         marker='o', markersize=5,\n",
    "         color='blue', label='Training Accuracy')\n",
    "plt.plot(param_range, test_mean,\n",
    "         marker='o', markersize=5,\n",
    "         color='green', label='Validation Accuracy')\n",
    "plt.xlabel('Parameter C')\n",
    "plt.ylabel('Accuracy')\n",
    "plt.grid()\n",
    "plt.show()\n"
   ]
  },
  {
   "cell_type": "markdown",
   "id": "78f78338-ef7f-43a0-90f9-0b1ffbfe809f",
   "metadata": {},
   "source": [
    "## Analysis"
   ]
  },
  {
   "cell_type": "code",
   "execution_count": null,
   "id": "fe709177-06ae-41e4-ab05-6d3a37e8bf68",
   "metadata": {},
   "outputs": [],
   "source": []
  },
  {
   "cell_type": "code",
   "execution_count": null,
   "id": "04f9f0a1-c3c3-4c53-adc8-c8482ed14dfb",
   "metadata": {},
   "outputs": [],
   "source": []
  },
  {
   "cell_type": "code",
   "execution_count": null,
   "id": "623d7268-6610-4488-ace6-cd4e0ac11b67",
   "metadata": {},
   "outputs": [],
   "source": []
  }
 ],
 "metadata": {
  "kernelspec": {
   "display_name": "Python 3 (ipykernel)",
   "language": "python",
   "name": "python3"
  },
  "language_info": {
   "codemirror_mode": {
    "name": "ipython",
    "version": 3
   },
   "file_extension": ".py",
   "mimetype": "text/x-python",
   "name": "python",
   "nbconvert_exporter": "python",
   "pygments_lexer": "ipython3",
   "version": "3.8.12"
  },
  "vscode": {
   "interpreter": {
    "hash": "a715cf5afd83ed034e49a895e4ee0257b787954ba873dfb9b6f96e74732c4d13"
   }
  }
 },
 "nbformat": 4,
 "nbformat_minor": 5
}
