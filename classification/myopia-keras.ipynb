{
 "cells": [
  {
   "cell_type": "code",
   "execution_count": 8,
   "id": "23fd159a-6eeb-47b7-93cf-80f85a581ca2",
   "metadata": {},
   "outputs": [],
   "source": [
    "# Import our dependencies\n",
    "from sklearn.model_selection import train_test_split\n",
    "from sklearn.preprocessing import StandardScaler\n",
    "from sklearn.metrics import accuracy_score, confusion_matrix, classification_report\n",
    "import pandas as pd\n",
    "import tensorflow as tf"
   ]
  },
  {
   "cell_type": "code",
   "execution_count": 2,
   "id": "1a351da4-7d25-4ad1-9228-02cfec9f6f5a",
   "metadata": {},
   "outputs": [
    {
     "data": {
      "text/html": [
       "<div>\n",
       "<style scoped>\n",
       "    .dataframe tbody tr th:only-of-type {\n",
       "        vertical-align: middle;\n",
       "    }\n",
       "\n",
       "    .dataframe tbody tr th {\n",
       "        vertical-align: top;\n",
       "    }\n",
       "\n",
       "    .dataframe thead th {\n",
       "        text-align: right;\n",
       "    }\n",
       "</style>\n",
       "<table border=\"1\" class=\"dataframe\">\n",
       "  <thead>\n",
       "    <tr style=\"text-align: right;\">\n",
       "      <th></th>\n",
       "      <th>AGE</th>\n",
       "      <th>SPHEQ</th>\n",
       "      <th>AL</th>\n",
       "      <th>ACD</th>\n",
       "      <th>LT</th>\n",
       "      <th>VCD</th>\n",
       "      <th>SPORTHR</th>\n",
       "      <th>READHR</th>\n",
       "      <th>COMPHR</th>\n",
       "      <th>STUDYHR</th>\n",
       "      <th>TVHR</th>\n",
       "      <th>DIOPTERHR</th>\n",
       "      <th>MOMMY</th>\n",
       "      <th>DADMY</th>\n",
       "      <th>MYOPIC</th>\n",
       "    </tr>\n",
       "  </thead>\n",
       "  <tbody>\n",
       "    <tr>\n",
       "      <th>0</th>\n",
       "      <td>6</td>\n",
       "      <td>-0.052</td>\n",
       "      <td>21.889999</td>\n",
       "      <td>3.690</td>\n",
       "      <td>3.498</td>\n",
       "      <td>14.70</td>\n",
       "      <td>45</td>\n",
       "      <td>8</td>\n",
       "      <td>0</td>\n",
       "      <td>0</td>\n",
       "      <td>10</td>\n",
       "      <td>34</td>\n",
       "      <td>1</td>\n",
       "      <td>1</td>\n",
       "      <td>1</td>\n",
       "    </tr>\n",
       "    <tr>\n",
       "      <th>1</th>\n",
       "      <td>6</td>\n",
       "      <td>0.608</td>\n",
       "      <td>22.379999</td>\n",
       "      <td>3.702</td>\n",
       "      <td>3.392</td>\n",
       "      <td>15.29</td>\n",
       "      <td>4</td>\n",
       "      <td>0</td>\n",
       "      <td>1</td>\n",
       "      <td>1</td>\n",
       "      <td>7</td>\n",
       "      <td>12</td>\n",
       "      <td>1</td>\n",
       "      <td>1</td>\n",
       "      <td>0</td>\n",
       "    </tr>\n",
       "    <tr>\n",
       "      <th>2</th>\n",
       "      <td>6</td>\n",
       "      <td>1.179</td>\n",
       "      <td>22.490000</td>\n",
       "      <td>3.462</td>\n",
       "      <td>3.514</td>\n",
       "      <td>15.52</td>\n",
       "      <td>14</td>\n",
       "      <td>0</td>\n",
       "      <td>2</td>\n",
       "      <td>0</td>\n",
       "      <td>10</td>\n",
       "      <td>14</td>\n",
       "      <td>0</td>\n",
       "      <td>0</td>\n",
       "      <td>0</td>\n",
       "    </tr>\n",
       "    <tr>\n",
       "      <th>3</th>\n",
       "      <td>6</td>\n",
       "      <td>0.525</td>\n",
       "      <td>22.200001</td>\n",
       "      <td>3.862</td>\n",
       "      <td>3.612</td>\n",
       "      <td>14.73</td>\n",
       "      <td>18</td>\n",
       "      <td>11</td>\n",
       "      <td>0</td>\n",
       "      <td>0</td>\n",
       "      <td>4</td>\n",
       "      <td>37</td>\n",
       "      <td>0</td>\n",
       "      <td>1</td>\n",
       "      <td>1</td>\n",
       "    </tr>\n",
       "    <tr>\n",
       "      <th>4</th>\n",
       "      <td>5</td>\n",
       "      <td>0.697</td>\n",
       "      <td>23.290001</td>\n",
       "      <td>3.676</td>\n",
       "      <td>3.454</td>\n",
       "      <td>16.16</td>\n",
       "      <td>14</td>\n",
       "      <td>0</td>\n",
       "      <td>0</td>\n",
       "      <td>0</td>\n",
       "      <td>4</td>\n",
       "      <td>4</td>\n",
       "      <td>1</td>\n",
       "      <td>0</td>\n",
       "      <td>0</td>\n",
       "    </tr>\n",
       "  </tbody>\n",
       "</table>\n",
       "</div>"
      ],
      "text/plain": [
       "   AGE  SPHEQ         AL    ACD     LT    VCD  SPORTHR  READHR  COMPHR  \\\n",
       "0    6 -0.052  21.889999  3.690  3.498  14.70       45       8       0   \n",
       "1    6  0.608  22.379999  3.702  3.392  15.29        4       0       1   \n",
       "2    6  1.179  22.490000  3.462  3.514  15.52       14       0       2   \n",
       "3    6  0.525  22.200001  3.862  3.612  14.73       18      11       0   \n",
       "4    5  0.697  23.290001  3.676  3.454  16.16       14       0       0   \n",
       "\n",
       "   STUDYHR  TVHR  DIOPTERHR  MOMMY  DADMY  MYOPIC  \n",
       "0        0    10         34      1      1       1  \n",
       "1        1     7         12      1      1       0  \n",
       "2        0    10         14      0      0       0  \n",
       "3        0     4         37      0      1       1  \n",
       "4        0     4          4      1      0       0  "
      ]
     },
     "execution_count": 2,
     "metadata": {},
     "output_type": "execute_result"
    }
   ],
   "source": [
    "# Import our input dataset\n",
    "df = pd.read_csv('data/myopia.csv')\n",
    "df.head()"
   ]
  },
  {
   "cell_type": "code",
   "execution_count": 3,
   "id": "2cb299dd-c96d-4519-a01e-92e5a4085fe3",
   "metadata": {},
   "outputs": [],
   "source": [
    "# Define X,y\n",
    "label = df[\"MYOPIC\"].copy()\n",
    "X = df.iloc[:,:-1].copy()\n",
    "X.head()\n",
    "\n",
    "# Split training/test datasets\n",
    "X_train, X_test, y_train, y_test = train_test_split(X, label, random_state=42, stratify=label)"
   ]
  },
  {
   "cell_type": "code",
   "execution_count": 4,
   "id": "8c017e79-f38b-4f78-a9a8-3ab725c1d8ac",
   "metadata": {},
   "outputs": [],
   "source": [
    "# Preprocess numerical data for neural network\n",
    "\n",
    "# Create a StandardScaler instances\n",
    "scaler = StandardScaler()\n",
    "\n",
    "# Fit the StandardScaler\n",
    "X_scaler = scaler.fit(X_train)\n",
    "\n",
    "# Scale the data\n",
    "X_train_scaled = X_scaler.transform(X_train)\n",
    "X_test_scaled = X_scaler.transform(X_test)"
   ]
  },
  {
   "cell_type": "code",
   "execution_count": 5,
   "id": "1ad56272-eb6a-47f5-94bc-44acad22ad68",
   "metadata": {},
   "outputs": [
    {
     "name": "stdout",
     "output_type": "stream",
     "text": [
      "Epoch 1/50\n",
      "15/15 [==============================] - 0s 2ms/step - loss: 0.5798 - accuracy: 0.7689\n",
      "Epoch 2/50\n",
      "15/15 [==============================] - 0s 1ms/step - loss: 0.4941 - accuracy: 0.8575\n",
      "Epoch 3/50\n",
      "15/15 [==============================] - 0s 1ms/step - loss: 0.4369 - accuracy: 0.8683\n",
      "Epoch 4/50\n",
      "15/15 [==============================] - 0s 994us/step - loss: 0.4014 - accuracy: 0.8683\n",
      "Epoch 5/50\n",
      "15/15 [==============================] - 0s 760us/step - loss: 0.3800 - accuracy: 0.8683\n",
      "Epoch 6/50\n",
      "15/15 [==============================] - 0s 581us/step - loss: 0.3656 - accuracy: 0.8683\n",
      "Epoch 7/50\n",
      "15/15 [==============================] - 0s 782us/step - loss: 0.3551 - accuracy: 0.8683\n",
      "Epoch 8/50\n",
      "15/15 [==============================] - 0s 821us/step - loss: 0.3465 - accuracy: 0.8683\n",
      "Epoch 9/50\n",
      "15/15 [==============================] - 0s 812us/step - loss: 0.3391 - accuracy: 0.8683\n",
      "Epoch 10/50\n",
      "15/15 [==============================] - 0s 889us/step - loss: 0.3332 - accuracy: 0.8683\n",
      "Epoch 11/50\n",
      "15/15 [==============================] - 0s 1ms/step - loss: 0.3271 - accuracy: 0.8683\n",
      "Epoch 12/50\n",
      "15/15 [==============================] - 0s 1ms/step - loss: 0.3210 - accuracy: 0.8683\n",
      "Epoch 13/50\n",
      "15/15 [==============================] - 0s 1ms/step - loss: 0.3162 - accuracy: 0.8683\n",
      "Epoch 14/50\n",
      "15/15 [==============================] - 0s 2ms/step - loss: 0.3109 - accuracy: 0.8683\n",
      "Epoch 15/50\n",
      "15/15 [==============================] - 0s 1ms/step - loss: 0.3057 - accuracy: 0.8683\n",
      "Epoch 16/50\n",
      "15/15 [==============================] - 0s 973us/step - loss: 0.3014 - accuracy: 0.8683\n",
      "Epoch 17/50\n",
      "15/15 [==============================] - 0s 1ms/step - loss: 0.2967 - accuracy: 0.8683\n",
      "Epoch 18/50\n",
      "15/15 [==============================] - 0s 1ms/step - loss: 0.2923 - accuracy: 0.8683\n",
      "Epoch 19/50\n",
      "15/15 [==============================] - 0s 1ms/step - loss: 0.2882 - accuracy: 0.8683\n",
      "Epoch 20/50\n",
      "15/15 [==============================] - 0s 1ms/step - loss: 0.2841 - accuracy: 0.8683\n",
      "Epoch 21/50\n",
      "15/15 [==============================] - 0s 841us/step - loss: 0.2802 - accuracy: 0.8683\n",
      "Epoch 22/50\n",
      "15/15 [==============================] - 0s 937us/step - loss: 0.2761 - accuracy: 0.8683\n",
      "Epoch 23/50\n",
      "15/15 [==============================] - 0s 936us/step - loss: 0.2723 - accuracy: 0.8683\n",
      "Epoch 24/50\n",
      "15/15 [==============================] - 0s 1ms/step - loss: 0.2687 - accuracy: 0.8704\n",
      "Epoch 25/50\n",
      "15/15 [==============================] - 0s 913us/step - loss: 0.2656 - accuracy: 0.8747\n",
      "Epoch 26/50\n",
      "15/15 [==============================] - 0s 1ms/step - loss: 0.2616 - accuracy: 0.8747\n",
      "Epoch 27/50\n",
      "15/15 [==============================] - 0s 1ms/step - loss: 0.2579 - accuracy: 0.8769\n",
      "Epoch 28/50\n",
      "15/15 [==============================] - 0s 981us/step - loss: 0.2547 - accuracy: 0.8769\n",
      "Epoch 29/50\n",
      "15/15 [==============================] - 0s 1ms/step - loss: 0.2506 - accuracy: 0.8769\n",
      "Epoch 30/50\n",
      "15/15 [==============================] - 0s 1ms/step - loss: 0.2475 - accuracy: 0.8769\n",
      "Epoch 31/50\n",
      "15/15 [==============================] - 0s 979us/step - loss: 0.2438 - accuracy: 0.8812\n",
      "Epoch 32/50\n",
      "15/15 [==============================] - 0s 739us/step - loss: 0.2403 - accuracy: 0.8855\n",
      "Epoch 33/50\n",
      "15/15 [==============================] - 0s 895us/step - loss: 0.2373 - accuracy: 0.8877\n",
      "Epoch 34/50\n",
      "15/15 [==============================] - 0s 829us/step - loss: 0.2345 - accuracy: 0.8920\n",
      "Epoch 35/50\n",
      "15/15 [==============================] - 0s 890us/step - loss: 0.2312 - accuracy: 0.8942\n",
      "Epoch 36/50\n",
      "15/15 [==============================] - 0s 998us/step - loss: 0.2292 - accuracy: 0.8942\n",
      "Epoch 37/50\n",
      "15/15 [==============================] - 0s 1000us/step - loss: 0.2260 - accuracy: 0.9006\n",
      "Epoch 38/50\n",
      "15/15 [==============================] - 0s 971us/step - loss: 0.2237 - accuracy: 0.8985\n",
      "Epoch 39/50\n",
      "15/15 [==============================] - 0s 936us/step - loss: 0.2212 - accuracy: 0.8920\n",
      "Epoch 40/50\n",
      "15/15 [==============================] - 0s 900us/step - loss: 0.2193 - accuracy: 0.8898\n",
      "Epoch 41/50\n",
      "15/15 [==============================] - 0s 1ms/step - loss: 0.2171 - accuracy: 0.8942\n",
      "Epoch 42/50\n",
      "15/15 [==============================] - 0s 992us/step - loss: 0.2146 - accuracy: 0.8963\n",
      "Epoch 43/50\n",
      "15/15 [==============================] - 0s 960us/step - loss: 0.2130 - accuracy: 0.8963\n",
      "Epoch 44/50\n",
      "15/15 [==============================] - 0s 960us/step - loss: 0.2110 - accuracy: 0.8920\n",
      "Epoch 45/50\n",
      "15/15 [==============================] - 0s 963us/step - loss: 0.2091 - accuracy: 0.8963\n",
      "Epoch 46/50\n",
      "15/15 [==============================] - 0s 912us/step - loss: 0.2065 - accuracy: 0.9006\n",
      "Epoch 47/50\n",
      "15/15 [==============================] - 0s 954us/step - loss: 0.2046 - accuracy: 0.9006\n",
      "Epoch 48/50\n",
      "15/15 [==============================] - 0s 957us/step - loss: 0.2029 - accuracy: 0.9028\n",
      "Epoch 49/50\n",
      "15/15 [==============================] - 0s 860us/step - loss: 0.2015 - accuracy: 0.9050\n",
      "Epoch 50/50\n",
      "15/15 [==============================] - 0s 843us/step - loss: 0.1999 - accuracy: 0.9050\n",
      "5/5 - 0s - loss: 0.3899 - accuracy: 0.8645\n",
      "Loss: 0.38989052176475525, Accuracy: 0.8645161390304565\n"
     ]
    }
   ],
   "source": [
    "# Define the deep learning model \n",
    "nn_model = tf.keras.models.Sequential()\n",
    "nn_model.add(tf.keras.layers.Dense(units=16, activation=\"relu\", input_dim=14))\n",
    "nn_model.add(tf.keras.layers.Dense(units=16, activation=\"relu\"))\n",
    "nn_model.add(tf.keras.layers.Dense(units=1, activation=\"sigmoid\"))\n",
    "\n",
    "# Compile the Sequential model together and customize metrics\n",
    "nn_model.compile(loss=\"binary_crossentropy\", optimizer=\"adam\", metrics=[\"accuracy\"])\n",
    "\n",
    "# Train the model\n",
    "fit_model = nn_model.fit(X_train_scaled, y_train, epochs=50)\n",
    "\n",
    "# Evaluate the model using the test data\n",
    "model_loss, model_accuracy = nn_model.evaluate(X_test_scaled,y_test,verbose=2)\n",
    "print(f\"Loss: {model_loss}, Accuracy: {model_accuracy}\")"
   ]
  },
  {
   "cell_type": "markdown",
   "id": "e0f8f17a-dcdd-4fb3-9e2e-de90b3d31451",
   "metadata": {},
   "source": [
    "# Predict results and evaluate"
   ]
  },
  {
   "cell_type": "code",
   "execution_count": 6,
   "id": "e8484de4-8028-4673-940f-747d0108db66",
   "metadata": {},
   "outputs": [],
   "source": [
    "y_pred = nn_model.predict(X_test_scaled)"
   ]
  },
  {
   "cell_type": "code",
   "execution_count": 12,
   "id": "f0fa0d61-73c1-4cb2-a88e-b27e3611a147",
   "metadata": {},
   "outputs": [],
   "source": [
    "# convert to binary output\n",
    "y_pred_binary = [0 if i <=0.5 else 1 for i in y_pred]\n"
   ]
  },
  {
   "cell_type": "code",
   "execution_count": 13,
   "id": "560f0bd1-1d62-48bd-99f8-f81f09f54aaa",
   "metadata": {},
   "outputs": [
    {
     "data": {
      "text/plain": [
       "array([[132,   3],\n",
       "       [ 18,   2]], dtype=int64)"
      ]
     },
     "execution_count": 13,
     "metadata": {},
     "output_type": "execute_result"
    }
   ],
   "source": [
    "confusion_matrix(y_test, y_pred_binary)"
   ]
  },
  {
   "cell_type": "code",
   "execution_count": 14,
   "id": "1a9be1ed-81ef-4ee7-8f65-c87980028b43",
   "metadata": {},
   "outputs": [
    {
     "name": "stdout",
     "output_type": "stream",
     "text": [
      "              precision    recall  f1-score   support\n",
      "\n",
      "           0       0.88      0.98      0.93       135\n",
      "           1       0.40      0.10      0.16        20\n",
      "\n",
      "    accuracy                           0.86       155\n",
      "   macro avg       0.64      0.54      0.54       155\n",
      "weighted avg       0.82      0.86      0.83       155\n",
      "\n"
     ]
    }
   ],
   "source": [
    "print(classification_report(y_test, y_pred_binary))"
   ]
  },
  {
   "cell_type": "markdown",
   "id": "083ab728-d6d1-4b0b-9fee-6d95491d4640",
   "metadata": {},
   "source": [
    "# Less critical acceptance criteria"
   ]
  },
  {
   "cell_type": "code",
   "execution_count": 18,
   "id": "d9f32cd7-1cdb-45b8-8e96-8e1669deeceb",
   "metadata": {},
   "outputs": [],
   "source": [
    "# convert to binary output\n",
    "y_pred_binary = [0 if i <=0.3 else 1 for i in y_pred]"
   ]
  },
  {
   "cell_type": "code",
   "execution_count": 19,
   "id": "af2eae16-dc21-49a2-a93b-ba0905b9da32",
   "metadata": {},
   "outputs": [
    {
     "data": {
      "text/plain": [
       "array([[123,  12],\n",
       "       [ 15,   5]], dtype=int64)"
      ]
     },
     "execution_count": 19,
     "metadata": {},
     "output_type": "execute_result"
    }
   ],
   "source": [
    "confusion_matrix(y_test, y_pred_binary)"
   ]
  },
  {
   "cell_type": "code",
   "execution_count": 20,
   "id": "8d918363-7bff-49bd-9640-c0062e29354f",
   "metadata": {},
   "outputs": [
    {
     "name": "stdout",
     "output_type": "stream",
     "text": [
      "              precision    recall  f1-score   support\n",
      "\n",
      "           0       0.89      0.91      0.90       135\n",
      "           1       0.29      0.25      0.27        20\n",
      "\n",
      "    accuracy                           0.83       155\n",
      "   macro avg       0.59      0.58      0.59       155\n",
      "weighted avg       0.81      0.83      0.82       155\n",
      "\n"
     ]
    }
   ],
   "source": [
    "print(classification_report(y_test, y_pred_binary))"
   ]
  },
  {
   "cell_type": "code",
   "execution_count": null,
   "id": "7b28d1e5-a05e-40a0-966a-cef7096ddd11",
   "metadata": {},
   "outputs": [],
   "source": []
  },
  {
   "cell_type": "code",
   "execution_count": null,
   "id": "2c5eea0d-1370-48e5-ba24-373b827928ea",
   "metadata": {},
   "outputs": [],
   "source": []
  }
 ],
 "metadata": {
  "kernelspec": {
   "display_name": "Python 3.9.9 ('flask-postgres-template-4lXyxcK0')",
   "language": "python",
   "name": "python3"
  },
  "language_info": {
   "codemirror_mode": {
    "name": "ipython",
    "version": 3
   },
   "file_extension": ".py",
   "mimetype": "text/x-python",
   "name": "python",
   "nbconvert_exporter": "python",
   "pygments_lexer": "ipython3",
   "version": "3.9.9"
  },
  "vscode": {
   "interpreter": {
    "hash": "a715cf5afd83ed034e49a895e4ee0257b787954ba873dfb9b6f96e74732c4d13"
   }
  }
 },
 "nbformat": 4,
 "nbformat_minor": 5
}
