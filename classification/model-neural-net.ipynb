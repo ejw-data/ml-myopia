{
 "cells": [
  {
   "cell_type": "code",
   "execution_count": 19,
   "id": "23fd159a-6eeb-47b7-93cf-80f85a581ca2",
   "metadata": {},
   "outputs": [],
   "source": [
    "# Import our dependencies\n",
    "from statistics import mean\n",
    "from sklearn.model_selection import train_test_split, cross_validate, RepeatedStratifiedKFold\n",
    "from sklearn.preprocessing import StandardScaler\n",
    "from sklearn.metrics import accuracy_score, confusion_matrix, classification_report\n",
    "import pandas as pd\n",
    "import tensorflow as tf\n",
    "from imblearn.pipeline import Pipeline"
   ]
  },
  {
   "cell_type": "code",
   "execution_count": 2,
   "id": "1a351da4-7d25-4ad1-9228-02cfec9f6f5a",
   "metadata": {},
   "outputs": [
    {
     "data": {
      "text/html": [
       "<div>\n",
       "<style scoped>\n",
       "    .dataframe tbody tr th:only-of-type {\n",
       "        vertical-align: middle;\n",
       "    }\n",
       "\n",
       "    .dataframe tbody tr th {\n",
       "        vertical-align: top;\n",
       "    }\n",
       "\n",
       "    .dataframe thead th {\n",
       "        text-align: right;\n",
       "    }\n",
       "</style>\n",
       "<table border=\"1\" class=\"dataframe\">\n",
       "  <thead>\n",
       "    <tr style=\"text-align: right;\">\n",
       "      <th></th>\n",
       "      <th>ACD</th>\n",
       "      <th>LT</th>\n",
       "      <th>VCD</th>\n",
       "      <th>SPORTHR</th>\n",
       "      <th>DADMY</th>\n",
       "      <th>delta_spheq</th>\n",
       "      <th>total_positive_screen</th>\n",
       "      <th>MYOPIC</th>\n",
       "    </tr>\n",
       "  </thead>\n",
       "  <tbody>\n",
       "    <tr>\n",
       "      <th>0</th>\n",
       "      <td>3.702</td>\n",
       "      <td>3.392</td>\n",
       "      <td>15.29</td>\n",
       "      <td>4</td>\n",
       "      <td>1</td>\n",
       "      <td>1.358</td>\n",
       "      <td>8</td>\n",
       "      <td>0</td>\n",
       "    </tr>\n",
       "    <tr>\n",
       "      <th>1</th>\n",
       "      <td>3.462</td>\n",
       "      <td>3.514</td>\n",
       "      <td>15.52</td>\n",
       "      <td>14</td>\n",
       "      <td>0</td>\n",
       "      <td>1.929</td>\n",
       "      <td>10</td>\n",
       "      <td>0</td>\n",
       "    </tr>\n",
       "    <tr>\n",
       "      <th>2</th>\n",
       "      <td>3.224</td>\n",
       "      <td>3.556</td>\n",
       "      <td>15.36</td>\n",
       "      <td>10</td>\n",
       "      <td>1</td>\n",
       "      <td>2.494</td>\n",
       "      <td>26</td>\n",
       "      <td>0</td>\n",
       "    </tr>\n",
       "    <tr>\n",
       "      <th>3</th>\n",
       "      <td>3.186</td>\n",
       "      <td>3.654</td>\n",
       "      <td>15.49</td>\n",
       "      <td>12</td>\n",
       "      <td>1</td>\n",
       "      <td>1.433</td>\n",
       "      <td>16</td>\n",
       "      <td>0</td>\n",
       "    </tr>\n",
       "    <tr>\n",
       "      <th>4</th>\n",
       "      <td>3.732</td>\n",
       "      <td>3.584</td>\n",
       "      <td>15.08</td>\n",
       "      <td>12</td>\n",
       "      <td>0</td>\n",
       "      <td>2.022</td>\n",
       "      <td>8</td>\n",
       "      <td>0</td>\n",
       "    </tr>\n",
       "  </tbody>\n",
       "</table>\n",
       "</div>"
      ],
      "text/plain": [
       "     ACD     LT    VCD  SPORTHR  DADMY  delta_spheq  total_positive_screen  \\\n",
       "0  3.702  3.392  15.29        4      1        1.358                      8   \n",
       "1  3.462  3.514  15.52       14      0        1.929                     10   \n",
       "2  3.224  3.556  15.36       10      1        2.494                     26   \n",
       "3  3.186  3.654  15.49       12      1        1.433                     16   \n",
       "4  3.732  3.584  15.08       12      0        2.022                      8   \n",
       "\n",
       "   MYOPIC  \n",
       "0       0  \n",
       "1       0  \n",
       "2       0  \n",
       "3       0  \n",
       "4       0  "
      ]
     },
     "execution_count": 2,
     "metadata": {},
     "output_type": "execute_result"
    }
   ],
   "source": [
    "# Import our input dataset\n",
    "df = pd.read_csv('../eda/reduced_filtered_df.csv')\n",
    "df.head()"
   ]
  },
  {
   "cell_type": "code",
   "execution_count": 3,
   "id": "2cb299dd-c96d-4519-a01e-92e5a4085fe3",
   "metadata": {},
   "outputs": [],
   "source": [
    "# Define X,y\n",
    "label = df[\"MYOPIC\"].copy()\n",
    "X = df.iloc[:,:-1].copy()\n",
    "X.head()\n",
    "\n",
    "# Split training/test datasets\n",
    "X_train, X_test, y_train, y_test = train_test_split(X, label, random_state=42, stratify=label)"
   ]
  },
  {
   "cell_type": "code",
   "execution_count": 4,
   "id": "8c017e79-f38b-4f78-a9a8-3ab725c1d8ac",
   "metadata": {},
   "outputs": [],
   "source": [
    "# Preprocess numerical data for neural network\n",
    "\n",
    "# Create a StandardScaler instances\n",
    "scaler = StandardScaler()\n",
    "\n",
    "# Fit the StandardScaler\n",
    "X_scaler = scaler.fit(X_train)\n",
    "\n",
    "# Scale the data\n",
    "X_train_scaled = X_scaler.transform(X_train)\n",
    "X_test_scaled = X_scaler.transform(X_test)"
   ]
  },
  {
   "cell_type": "code",
   "execution_count": 5,
   "id": "1ad56272-eb6a-47f5-94bc-44acad22ad68",
   "metadata": {},
   "outputs": [
    {
     "name": "stdout",
     "output_type": "stream",
     "text": [
      "Epoch 1/50\n",
      "9/9 [==============================] - 0s 665us/step - loss: 0.7966 - accuracy: 0.3405\n",
      "Epoch 2/50\n",
      "9/9 [==============================] - 0s 1ms/step - loss: 0.7165 - accuracy: 0.4839\n",
      "Epoch 3/50\n",
      "9/9 [==============================] - 0s 554us/step - loss: 0.6522 - accuracy: 0.6093\n",
      "Epoch 4/50\n",
      "9/9 [==============================] - 0s 554us/step - loss: 0.6032 - accuracy: 0.7276\n",
      "Epoch 5/50\n",
      "9/9 [==============================] - 0s 554us/step - loss: 0.5613 - accuracy: 0.8387\n",
      "Epoch 6/50\n",
      "9/9 [==============================] - 0s 886us/step - loss: 0.5298 - accuracy: 0.8602\n",
      "Epoch 7/50\n",
      "9/9 [==============================] - 0s 658us/step - loss: 0.5021 - accuracy: 0.8638\n",
      "Epoch 8/50\n",
      "9/9 [==============================] - 0s 444us/step - loss: 0.4790 - accuracy: 0.8674\n",
      "Epoch 9/50\n",
      "9/9 [==============================] - 0s 554us/step - loss: 0.4573 - accuracy: 0.8674\n",
      "Epoch 10/50\n",
      "9/9 [==============================] - 0s 1ms/step - loss: 0.4370 - accuracy: 0.8674\n",
      "Epoch 11/50\n",
      "9/9 [==============================] - 0s 541us/step - loss: 0.4202 - accuracy: 0.8674\n",
      "Epoch 12/50\n",
      "9/9 [==============================] - 0s 544us/step - loss: 0.4051 - accuracy: 0.8674\n",
      "Epoch 13/50\n",
      "9/9 [==============================] - 0s 1ms/step - loss: 0.3904 - accuracy: 0.8674\n",
      "Epoch 14/50\n",
      "9/9 [==============================] - 0s 668us/step - loss: 0.3767 - accuracy: 0.8710\n",
      "Epoch 15/50\n",
      "9/9 [==============================] - 0s 546us/step - loss: 0.3654 - accuracy: 0.8674\n",
      "Epoch 16/50\n",
      "9/9 [==============================] - 0s 554us/step - loss: 0.3548 - accuracy: 0.8674\n",
      "Epoch 17/50\n",
      "9/9 [==============================] - 0s 1ms/step - loss: 0.3450 - accuracy: 0.8674\n",
      "Epoch 18/50\n",
      "9/9 [==============================] - 0s 655us/step - loss: 0.3358 - accuracy: 0.8674\n",
      "Epoch 19/50\n",
      "9/9 [==============================] - 0s 557us/step - loss: 0.3282 - accuracy: 0.8674\n",
      "Epoch 20/50\n",
      "9/9 [==============================] - 0s 1ms/step - loss: 0.3210 - accuracy: 0.8674\n",
      "Epoch 21/50\n",
      "9/9 [==============================] - 0s 554us/step - loss: 0.3145 - accuracy: 0.8674\n",
      "Epoch 22/50\n",
      "9/9 [==============================] - 0s 554us/step - loss: 0.3087 - accuracy: 0.8781\n",
      "Epoch 23/50\n",
      "9/9 [==============================] - 0s 667us/step - loss: 0.3040 - accuracy: 0.8781\n",
      "Epoch 24/50\n",
      "9/9 [==============================] - 0s 1ms/step - loss: 0.2998 - accuracy: 0.8853\n",
      "Epoch 25/50\n",
      "9/9 [==============================] - 0s 668us/step - loss: 0.2963 - accuracy: 0.8889\n",
      "Epoch 26/50\n",
      "9/9 [==============================] - 0s 1ms/step - loss: 0.2922 - accuracy: 0.8889\n",
      "Epoch 27/50\n",
      "9/9 [==============================] - 0s 1ms/step - loss: 0.2892 - accuracy: 0.8889\n",
      "Epoch 28/50\n",
      "9/9 [==============================] - 0s 1ms/step - loss: 0.2863 - accuracy: 0.8889\n",
      "Epoch 29/50\n",
      "9/9 [==============================] - 0s 1ms/step - loss: 0.2841 - accuracy: 0.8889\n",
      "Epoch 30/50\n",
      "9/9 [==============================] - 0s 665us/step - loss: 0.2808 - accuracy: 0.8925\n",
      "Epoch 31/50\n",
      "9/9 [==============================] - 0s 551us/step - loss: 0.2787 - accuracy: 0.8925\n",
      "Epoch 32/50\n",
      "9/9 [==============================] - 0s 1ms/step - loss: 0.2764 - accuracy: 0.8925\n",
      "Epoch 33/50\n",
      "9/9 [==============================] - 0s 554us/step - loss: 0.2743 - accuracy: 0.8925\n",
      "Epoch 34/50\n",
      "9/9 [==============================] - 0s 665us/step - loss: 0.2724 - accuracy: 0.8925\n",
      "Epoch 35/50\n",
      "9/9 [==============================] - 0s 999us/step - loss: 0.2708 - accuracy: 0.8925\n",
      "Epoch 36/50\n",
      "9/9 [==============================] - 0s 776us/step - loss: 0.2690 - accuracy: 0.8925\n",
      "Epoch 37/50\n",
      "9/9 [==============================] - 0s 545us/step - loss: 0.2670 - accuracy: 0.8925\n",
      "Epoch 38/50\n",
      "9/9 [==============================] - 0s 779us/step - loss: 0.2655 - accuracy: 0.8925\n",
      "Epoch 39/50\n",
      "9/9 [==============================] - 0s 779us/step - loss: 0.2638 - accuracy: 0.8925\n",
      "Epoch 40/50\n",
      "9/9 [==============================] - 0s 554us/step - loss: 0.2626 - accuracy: 0.8925\n",
      "Epoch 41/50\n",
      "9/9 [==============================] - 0s 565us/step - loss: 0.2613 - accuracy: 0.8925\n",
      "Epoch 42/50\n",
      "9/9 [==============================] - 0s 1ms/step - loss: 0.2600 - accuracy: 0.8925\n",
      "Epoch 43/50\n",
      "9/9 [==============================] - 0s 721us/step - loss: 0.2584 - accuracy: 0.8925\n",
      "Epoch 44/50\n",
      "9/9 [==============================] - 0s 557us/step - loss: 0.2571 - accuracy: 0.8925\n",
      "Epoch 45/50\n",
      "9/9 [==============================] - 0s 1ms/step - loss: 0.2560 - accuracy: 0.8961\n",
      "Epoch 46/50\n",
      "9/9 [==============================] - 0s 666us/step - loss: 0.2549 - accuracy: 0.8961\n",
      "Epoch 47/50\n",
      "9/9 [==============================] - 0s 558us/step - loss: 0.2538 - accuracy: 0.8961\n",
      "Epoch 48/50\n",
      "9/9 [==============================] - 0s 750us/step - loss: 0.2530 - accuracy: 0.8961\n",
      "Epoch 49/50\n",
      "9/9 [==============================] - 0s 887us/step - loss: 0.2516 - accuracy: 0.8961\n",
      "Epoch 50/50\n",
      "9/9 [==============================] - 0s 443us/step - loss: 0.2507 - accuracy: 0.8961\n",
      "3/3 - 0s - loss: 0.2723 - accuracy: 0.8925\n",
      "Loss: 0.27229931950569153, Accuracy: 0.8924731016159058\n"
     ]
    }
   ],
   "source": [
    "# Define the deep learning model \n",
    "nn_model = tf.keras.models.Sequential()\n",
    "nn_model.add(tf.keras.layers.Dense(units=16, activation=\"relu\", input_dim=7))\n",
    "nn_model.add(tf.keras.layers.Dense(units=16, activation=\"relu\"))\n",
    "nn_model.add(tf.keras.layers.Dense(units=1, activation=\"sigmoid\"))\n",
    "\n",
    "# Compile the Sequential model together and customize metrics\n",
    "nn_model.compile(loss=\"binary_crossentropy\", optimizer=\"adam\", metrics=[\"accuracy\"])\n",
    "\n",
    "# Train the model\n",
    "fit_model = nn_model.fit(X_train_scaled, y_train, epochs=50)\n",
    "\n",
    "# Evaluate the model using the test data\n",
    "model_loss, model_accuracy = nn_model.evaluate(X_test_scaled,y_test,verbose=2)\n",
    "print(f\"Loss: {model_loss}, Accuracy: {model_accuracy}\")"
   ]
  },
  {
   "cell_type": "markdown",
   "id": "e0f8f17a-dcdd-4fb3-9e2e-de90b3d31451",
   "metadata": {},
   "source": [
    "# Predict results and evaluate"
   ]
  },
  {
   "cell_type": "code",
   "execution_count": 6,
   "id": "e8484de4-8028-4673-940f-747d0108db66",
   "metadata": {},
   "outputs": [],
   "source": [
    "y_pred = nn_model.predict(X_test_scaled)"
   ]
  },
  {
   "cell_type": "code",
   "execution_count": 7,
   "id": "f0fa0d61-73c1-4cb2-a88e-b27e3611a147",
   "metadata": {},
   "outputs": [],
   "source": [
    "# convert to binary output\n",
    "y_pred_binary = [0 if i <=0.5 else 1 for i in y_pred]\n"
   ]
  },
  {
   "cell_type": "code",
   "execution_count": 8,
   "id": "560f0bd1-1d62-48bd-99f8-f81f09f54aaa",
   "metadata": {},
   "outputs": [
    {
     "data": {
      "text/plain": [
       "array([[81,  0],\n",
       "       [10,  2]], dtype=int64)"
      ]
     },
     "execution_count": 8,
     "metadata": {},
     "output_type": "execute_result"
    }
   ],
   "source": [
    "confusion_matrix(y_test, y_pred_binary)"
   ]
  },
  {
   "cell_type": "code",
   "execution_count": 9,
   "id": "1a9be1ed-81ef-4ee7-8f65-c87980028b43",
   "metadata": {},
   "outputs": [
    {
     "name": "stdout",
     "output_type": "stream",
     "text": [
      "              precision    recall  f1-score   support\n",
      "\n",
      "           0       0.89      1.00      0.94        81\n",
      "           1       1.00      0.17      0.29        12\n",
      "\n",
      "    accuracy                           0.89        93\n",
      "   macro avg       0.95      0.58      0.61        93\n",
      "weighted avg       0.90      0.89      0.86        93\n",
      "\n"
     ]
    }
   ],
   "source": [
    "print(classification_report(y_test, y_pred_binary))"
   ]
  },
  {
   "cell_type": "markdown",
   "id": "083ab728-d6d1-4b0b-9fee-6d95491d4640",
   "metadata": {},
   "source": [
    "# Changing the Threshold Criteria"
   ]
  },
  {
   "cell_type": "code",
   "execution_count": 10,
   "id": "d9f32cd7-1cdb-45b8-8e96-8e1669deeceb",
   "metadata": {},
   "outputs": [],
   "source": [
    "# convert to binary output\n",
    "y_pred_binary = [0 if i <=0.3 else 1 for i in y_pred]"
   ]
  },
  {
   "cell_type": "code",
   "execution_count": 11,
   "id": "af2eae16-dc21-49a2-a93b-ba0905b9da32",
   "metadata": {},
   "outputs": [
    {
     "data": {
      "text/plain": [
       "array([[78,  3],\n",
       "       [ 8,  4]], dtype=int64)"
      ]
     },
     "execution_count": 11,
     "metadata": {},
     "output_type": "execute_result"
    }
   ],
   "source": [
    "confusion_matrix(y_test, y_pred_binary)"
   ]
  },
  {
   "cell_type": "code",
   "execution_count": 12,
   "id": "8d918363-7bff-49bd-9640-c0062e29354f",
   "metadata": {},
   "outputs": [
    {
     "name": "stdout",
     "output_type": "stream",
     "text": [
      "              precision    recall  f1-score   support\n",
      "\n",
      "           0       0.91      0.96      0.93        81\n",
      "           1       0.57      0.33      0.42        12\n",
      "\n",
      "    accuracy                           0.88        93\n",
      "   macro avg       0.74      0.65      0.68        93\n",
      "weighted avg       0.86      0.88      0.87        93\n",
      "\n"
     ]
    }
   ],
   "source": [
    "print(classification_report(y_test, y_pred_binary))"
   ]
  },
  {
   "cell_type": "markdown",
   "id": "ce8c9e8e-3753-4349-99b2-8b3547077c3c",
   "metadata": {},
   "source": [
    "## Pipeline for Neural Network"
   ]
  },
  {
   "cell_type": "code",
   "execution_count": 17,
   "id": "2c5eea0d-1370-48e5-ba24-373b827928ea",
   "metadata": {},
   "outputs": [
    {
     "name": "stdout",
     "output_type": "stream",
     "text": [
      "9/9 [==============================] - 0s 1ms/step - loss: 0.2462 - accuracy: 0.8961\n",
      " Training Classification Report:  \n",
      "               precision    recall  f1-score   support\n",
      "\n",
      "           0       0.93      0.92      0.93       242\n",
      "           1       0.53      0.57      0.55        37\n",
      "\n",
      "    accuracy                           0.87       279\n",
      "   macro avg       0.73      0.74      0.74       279\n",
      "weighted avg       0.88      0.87      0.88       279\n",
      "\n",
      "--------------------------------------------------\n",
      " Testing Classification Report:  \n",
      "               precision    recall  f1-score   support\n",
      "\n",
      "           0       0.91      0.96      0.93        81\n",
      "           1       0.57      0.33      0.42        12\n",
      "\n",
      "    accuracy                           0.88        93\n",
      "   macro avg       0.74      0.65      0.68        93\n",
      "weighted avg       0.86      0.88      0.87        93\n",
      "\n"
     ]
    }
   ],
   "source": [
    "# create process steps\n",
    "pipes = [\n",
    "    (\"scaler\", StandardScaler()),\n",
    "    (\"nn\", nn_model)\n",
    "]\n",
    "\n",
    "# create pipeline\n",
    "pipeline = Pipeline(pipes)\n",
    "\n",
    "# Train the scaler with the X_train data.\n",
    "pipeline.fit(X_train, y_train)\n",
    "\n",
    "# # evaluate model\n",
    "# print(f\"Score:  {pipeline.score(X_train, y_train):>10}\")\n",
    "\n",
    "y_train_pred = pipeline.predict(X_train)\n",
    "y_pred_binary = [0 if i <=0.3 else 1 for i in y_train_pred]\n",
    "print(f\" Training Classification Report:  \\n {classification_report(y_train, y_pred_binary)}\")\n",
    "print(f\"-----\"*10)\n",
    "y_test_pred = pipeline.predict(X_test)\n",
    "y_pred_binary = [0 if i <=0.3 else 1 for i in y_test_pred]\n",
    "print(f\" Testing Classification Report:  \\n {classification_report(y_test, y_pred_binary)}\")"
   ]
  },
  {
   "cell_type": "code",
   "execution_count": null,
   "id": "73440151-b747-4252-961d-33f9921d440e",
   "metadata": {},
   "outputs": [],
   "source": []
  },
  {
   "cell_type": "markdown",
   "id": "4989161b-1a4f-443e-bac7-c9eded8dfa83",
   "metadata": {},
   "source": [
    "## Cross Validation for Neural Network"
   ]
  },
  {
   "cell_type": "code",
   "execution_count": 21,
   "id": "864fb158-318e-46d0-856d-ecfa24e445a9",
   "metadata": {},
   "outputs": [],
   "source": [
    "# # create process steps\n",
    "# pipes = [\n",
    "#     (\"scaler\", StandardScaler()),\n",
    "#     (\"nn\", nn_model)\n",
    "# ]\n",
    "\n",
    "# def create_model():\n",
    "#     # Define the deep learning model \n",
    "#     nn_model = tf.keras.models.Sequential()\n",
    "#     nn_model.add(tf.keras.layers.Dense(units=16, activation=\"relu\", input_dim=7))\n",
    "#     nn_model.add(tf.keras.layers.Dense(units=16, activation=\"relu\"))\n",
    "#     nn_model.add(tf.keras.layers.Dense(units=1, activation=\"sigmoid\"))\n",
    "#     return nn_module\n",
    "\n",
    "# # Compile the Sequential model together and customize metrics\n",
    "# nn_model.compile(loss=\"binary_crossentropy\", optimizer=\"adam\", metrics=[\"accuracy\"])\n",
    "\n",
    "# # create pipeline\n",
    "# pipeline = Pipeline(pipes)\n",
    "\n",
    "# # cross validation\n",
    "# cv = RepeatedStratifiedKFold(n_splits=10, n_repeats=3, random_state=1)\n",
    "\n",
    "# scoring = ('f1', 'recall', 'precision', 'roc_auc')\n",
    "\n",
    "# model = KerasClassifier(model=create_model, epochs=150, batch_size=10, verbose=0)\n",
    "\n",
    "# scores = cross_validate(model, X_train, y_train, scoring=scoring, cv=cv, n_jobs=-1)\n",
    "# print(f\"-----\"*10)\n",
    "# print(\"\\n\")\n",
    "# print(f\"Cross Validation Prediction Scores - average of 30 runs\")\n",
    "# print('Mean f1: %.3f' % mean(scores['test_f1']))\n",
    "# print('Mean recall: %.3f' % mean(scores['test_recall']))\n",
    "# print('Mean precision: %.3f' % mean(scores['test_precision']))\n",
    "# print('Mean ROC AUC: %.3f' % mean(scores['test_roc_auc']))\n",
    "# print(\"\\n\")"
   ]
  },
  {
   "cell_type": "code",
   "execution_count": null,
   "id": "1ef0b606-a295-494d-8def-2ff6a6816c6d",
   "metadata": {},
   "outputs": [],
   "source": []
  }
 ],
 "metadata": {
  "kernelspec": {
   "display_name": "Python 3 (ipykernel)",
   "language": "python",
   "name": "python3"
  },
  "language_info": {
   "codemirror_mode": {
    "name": "ipython",
    "version": 3
   },
   "file_extension": ".py",
   "mimetype": "text/x-python",
   "name": "python",
   "nbconvert_exporter": "python",
   "pygments_lexer": "ipython3",
   "version": "3.8.12"
  },
  "vscode": {
   "interpreter": {
    "hash": "a715cf5afd83ed034e49a895e4ee0257b787954ba873dfb9b6f96e74732c4d13"
   }
  }
 },
 "nbformat": 4,
 "nbformat_minor": 5
}
